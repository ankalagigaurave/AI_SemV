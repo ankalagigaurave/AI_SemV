{
  "nbformat": 4,
  "nbformat_minor": 0,
  "metadata": {
    "colab": {
      "name": "HW_J004_040720",
      "provenance": [],
      "collapsed_sections": [],
      "authorship_tag": "ABX9TyNC3PM+dP+cxZ9643KIYVH3",
      "include_colab_link": true
    },
    "kernelspec": {
      "name": "python3",
      "display_name": "Python 3"
    }
  },
  "cells": [
    {
      "cell_type": "markdown",
      "metadata": {
        "id": "view-in-github",
        "colab_type": "text"
      },
      "source": [
        "<a href=\"https://colab.research.google.com/github/ankalagigaurave/AI_SemV/blob/master/HW/HW_J004_040720.ipynb\" target=\"_parent\"><img src=\"https://colab.research.google.com/assets/colab-badge.svg\" alt=\"Open In Colab\"/></a>"
      ]
    },
    {
      "cell_type": "code",
      "metadata": {
        "id": "VDyTyHv7pXEB",
        "colab_type": "code",
        "colab": {}
      },
      "source": [
        "num=int(input())\n",
        "if num>=1 and num<=100:\n",
        "    if num%2 ==1 :\n",
        "        print(\"Weird\")\n",
        "    elif num%2==0 and num in range(2,6):\n",
        "        print(\"Not Weird\")\n",
        "    elif num%2==0 and num in range(6,21):\n",
        "        print(\"Weird\")\n",
        "    elif num%2==0 and num >20:\n",
        "        print(\"Not Weird\")    \n",
        "\n",
        "    else:\n",
        "        print(\"Number not in range of 1 to 100\")"
      ],
      "execution_count": null,
      "outputs": []
    },
    {
      "cell_type": "code",
      "metadata": {
        "id": "6JQ8vyGVrT-e",
        "colab_type": "code",
        "colab": {}
      },
      "source": [
        "num1=int(input())\n",
        "num2=int(input())\n",
        "print(num1+num2)\n",
        "print(num1-num2)\n",
        "print(num1*num2)"
      ],
      "execution_count": null,
      "outputs": []
    },
    {
      "cell_type": "code",
      "metadata": {
        "id": "WJ7KkPYhLgCP",
        "colab_type": "code",
        "colab": {}
      },
      "source": [
        "num1=int(input())\n",
        "num2=int(input())\n",
        "print(num1//num2)\n",
        "print(num1/num2)"
      ],
      "execution_count": null,
      "outputs": []
    },
    {
      "cell_type": "code",
      "metadata": {
        "id": "xj30Vep9LhG-",
        "colab_type": "code",
        "colab": {}
      },
      "source": [
        "num=int(input())\n",
        "for i in range(0,num):\n",
        "    print(i**2)"
      ],
      "execution_count": null,
      "outputs": []
    },
    {
      "cell_type": "code",
      "metadata": {
        "id": "TvnzoxwwLh1j",
        "colab_type": "code",
        "colab": {}
      },
      "source": [
        "\n",
        "num=int(input())\n",
        "newnum=0\n",
        "ind=0\n",
        "for i in range(1,num+1):\n",
        "   print(i,end='')\n"
      ],
      "execution_count": null,
      "outputs": []
    },
    {
      "cell_type": "code",
      "metadata": {
        "id": "z5cjqOmp1v-d",
        "colab_type": "code",
        "colab": {
          "base_uri": "https://localhost:8080/",
          "height": 101
        },
        "outputId": "22bf0165-482a-4041-e978-d5c1ec97d364"
      },
      "source": [
        "x = int(input())\n",
        "y = int(input())\n",
        "z = int(input())\n",
        "n = int(input())\n",
        "coord=[]\n",
        "for i in range(x+1):\n",
        "    for j in range(y+1):\n",
        "        for k in range(z+1):\n",
        "            if((i+j+k)!=n):\n",
        "                coord.append([i,j,k])\n",
        "print(coord)"
      ],
      "execution_count": 27,
      "outputs": [
        {
          "output_type": "stream",
          "text": [
            "1\n",
            "1\n",
            "1\n",
            "2\n",
            "[[0, 0, 0], [0, 0, 1], [0, 1, 0], [1, 0, 0], [1, 1, 1]]\n"
          ],
          "name": "stdout"
        }
      ]
    }
  ]
}