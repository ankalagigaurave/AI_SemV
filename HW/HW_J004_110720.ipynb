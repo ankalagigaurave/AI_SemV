{
  "nbformat": 4,
  "nbformat_minor": 0,
  "metadata": {
    "colab": {
      "name": "HW_J004_110720",
      "provenance": [],
      "authorship_tag": "ABX9TyNtFbQxQRO3YylzpA3t9Fzj",
      "include_colab_link": true
    },
    "kernelspec": {
      "name": "python3",
      "display_name": "Python 3"
    }
  },
  "cells": [
    {
      "cell_type": "markdown",
      "metadata": {
        "id": "view-in-github",
        "colab_type": "text"
      },
      "source": [
        "<a href=\"https://colab.research.google.com/github/ankalagigaurave/AI_SemV/blob/master/HW/HW_J004_110720.ipynb\" target=\"_parent\"><img src=\"https://colab.research.google.com/assets/colab-badge.svg\" alt=\"Open In Colab\"/></a>"
      ]
    },
    {
      "cell_type": "code",
      "metadata": {
        "id": "VMwMD24dza_5",
        "colab_type": "code",
        "colab": {
          "base_uri": "https://localhost:8080/",
          "height": 70
        },
        "outputId": "8ec4591b-ce1c-4ccc-8046-59d08f78f588"
      },
      "source": [
        "import pandas as pd\n",
        "import numpy as np\n",
        "import seaborn as sns"
      ],
      "execution_count": 1,
      "outputs": [
        {
          "output_type": "stream",
          "text": [
            "/usr/local/lib/python3.6/dist-packages/statsmodels/tools/_testing.py:19: FutureWarning: pandas.util.testing is deprecated. Use the functions in the public API at pandas.testing instead.\n",
            "  import pandas.util.testing as tm\n"
          ],
          "name": "stderr"
        }
      ]
    },
    {
      "cell_type": "code",
      "metadata": {
        "id": "czmByslZziq7",
        "colab_type": "code",
        "colab": {}
      },
      "source": [
        "class DataRead():\n",
        "      \n",
        "      def __init__(self,data_to_read):\n",
        "        self.data=pd.read_csv(data_to_read)\n",
        "      def RowSelect(self):\n",
        "        print(self.data.sample(2))\n",
        "\n",
        "class DataRead2(DataRead):\n",
        "      def __init__(self,data_to_read):\n",
        "        DataRead.__init__(self,data_to_read)\n",
        "        \n",
        "      def Corrplot(self):\n",
        "        print(sns.heatmap(self.data.corr()))\n",
        "      def RowSelect(self):\n",
        "        print(self.data.sample(3))"
      ],
      "execution_count": 2,
      "outputs": []
    },
    {
      "cell_type": "code",
      "metadata": {
        "id": "QzR3xGY-07UX",
        "colab_type": "code",
        "colab": {}
      },
      "source": [
        "filename=\"/content/indian_liver_patient.csv\""
      ],
      "execution_count": 3,
      "outputs": []
    },
    {
      "cell_type": "code",
      "metadata": {
        "id": "URvJgAEt-Q9Z",
        "colab_type": "code",
        "colab": {
          "base_uri": "https://localhost:8080/",
          "height": 101
        },
        "outputId": "b99db0dc-f258-41f2-e371-7d2abdc5f3ed"
      },
      "source": [
        "d1=DataRead(filename)\n",
        "d1.RowSelect()"
      ],
      "execution_count": 4,
      "outputs": [
        {
          "output_type": "stream",
          "text": [
            "     Age  Gender  Total_Bilirubin  ...  Albumin  Albumin_and_Globulin_Ratio  Dataset\n",
            "434   30  Female              0.7  ...      3.6                        0.92        2\n",
            "303   50    Male              0.7  ...      4.2                        1.00        2\n",
            "\n",
            "[2 rows x 11 columns]\n"
          ],
          "name": "stdout"
        }
      ]
    },
    {
      "cell_type": "code",
      "metadata": {
        "id": "k9zeJ32w-SuJ",
        "colab_type": "code",
        "colab": {
          "base_uri": "https://localhost:8080/",
          "height": 520
        },
        "outputId": "7b6a6565-7330-4571-c689-57c71b659c2a"
      },
      "source": [
        "d2=DataRead2(filename)\n",
        "d2.Corrplot()\n",
        "d2.RowSelect()"
      ],
      "execution_count": 5,
      "outputs": [
        {
          "output_type": "stream",
          "text": [
            "AxesSubplot(0.125,0.125;0.62x0.755)\n",
            "     Age Gender  Total_Bilirubin  ...  Albumin  Albumin_and_Globulin_Ratio  Dataset\n",
            "126   48   Male              5.8  ...      2.8                         0.8        1\n",
            "574   32   Male             12.1  ...      2.4                         0.5        1\n",
            "142   30   Male              1.6  ...      2.7                         0.9        1\n",
            "\n",
            "[3 rows x 11 columns]\n"
          ],
          "name": "stdout"
        },
        {
          "output_type": "display_data",
          "data": {
            "image/png": "[encoded data removed]",
            "text/plain": [
              "<Figure size 432x288 with 2 Axes>"
            ]
          },
          "metadata": {
            "tags": [],
            "needs_background": "light"
          }
        }
      ]
    },
    {
      "cell_type": "code",
      "metadata": {
        "id": "RlkHh-Zk-kDc",
        "colab_type": "code",
        "colab": {}
      },
      "source": [
        ""
      ],
      "execution_count": 5,
      "outputs": []
    }
  ]
}