{
  "nbformat": 4,
  "nbformat_minor": 0,
  "metadata": {
    "colab": {
      "name": "HW_J004_010820",
      "provenance": [],
      "collapsed_sections": [],
      "authorship_tag": "ABX9TyMKGwL5mUmP+rusMyO/LvaJ",
      "include_colab_link": true
    },
    "kernelspec": {
      "name": "python3",
      "display_name": "Python 3"
    }
  },
  "cells": [
    {
      "cell_type": "markdown",
      "metadata": {
        "id": "view-in-github",
        "colab_type": "text"
      },
      "source": [
        "<a href=\"https://colab.research.google.com/github/ankalagigaurave/AI_SemV/blob/master/HW/HW_J004_010820.ipynb\" target=\"_parent\"><img src=\"https://colab.research.google.com/assets/colab-badge.svg\" alt=\"Open In Colab\"/></a>"
      ]
    },
    {
      "cell_type": "markdown",
      "metadata": {
        "id": "J3GBOfsM1Uce",
        "colab_type": "text"
      },
      "source": [
        "#Coin Change"
      ]
    },
    {
      "cell_type": "code",
      "metadata": {
        "id": "4poUxZFR1SNQ",
        "colab_type": "code",
        "colab": {
          "base_uri": "https://localhost:8080/",
          "height": 346
        },
        "outputId": "1f6c90d6-bcdf-4aa6-e8bb-ae9a96dac887"
      },
      "source": [
        "#!/bin/python3\n",
        "\n",
        "import math\n",
        "import os\n",
        "import random\n",
        "import re\n",
        "import sys\n",
        "\n",
        "#\n",
        "# Complete the 'getWays' function below.\n",
        "#\n",
        "# The function is expected to return a LONG_INTEGER.\n",
        "# The function accepts following parameters:\n",
        "#  1. INTEGER n\n",
        "#  2. LONG_INTEGER_ARRAY c\n",
        "#\n",
        "\n",
        "def getWays(n, c):\n",
        "    # Write your code here\n",
        "    ways_no=[0]*(n+1)\n",
        "    ways_no[0]=1\n",
        "\n",
        "    for i in range(len(c)):\n",
        "        for j in range(len(ways_no)):\n",
        "            if c[i]<=j:\n",
        "                ways_no[j]+=ways_no[int(j-c[i])]\n",
        "    \n",
        "    \n",
        "    return ways_no[-1]\n",
        "\n",
        "if __name__ == '__main__':\n",
        "    fptr = open(os.environ['OUTPUT_PATH'], 'w')\n",
        "\n",
        "    first_multiple_input = input().rstrip().split()\n",
        "\n",
        "    n = int(first_multiple_input[0])\n",
        "\n",
        "    m = int(first_multiple_input[1])\n",
        "\n",
        "    c = list(map(int, input().rstrip().split()))\n",
        "\n",
        "    # Print the number of ways of making change for 'n' units using coins having the values given by 'c'\n",
        "\n",
        "    ways = getWays(n, c)\n",
        "\n",
        "    fptr.write(str(ways) + '\\n')\n",
        "\n",
        "    fptr.close()"
      ],
      "execution_count": 1,
      "outputs": [
        {
          "output_type": "error",
          "ename": "KeyError",
          "evalue": "ignored",
          "traceback": [
            "\u001b[0;31m---------------------------------------------------------------------------\u001b[0m",
            "\u001b[0;31mKeyError\u001b[0m                                  Traceback (most recent call last)",
            "\u001b[0;32m<ipython-input-1-5c1fa1b006cb>\u001b[0m in \u001b[0;36m<module>\u001b[0;34m()\u001b[0m\n\u001b[1;32m     30\u001b[0m \u001b[0;34m\u001b[0m\u001b[0m\n\u001b[1;32m     31\u001b[0m \u001b[0;32mif\u001b[0m \u001b[0m__name__\u001b[0m \u001b[0;34m==\u001b[0m \u001b[0;34m'__main__'\u001b[0m\u001b[0;34m:\u001b[0m\u001b[0;34m\u001b[0m\u001b[0;34m\u001b[0m\u001b[0m\n\u001b[0;32m---> 32\u001b[0;31m     \u001b[0mfptr\u001b[0m \u001b[0;34m=\u001b[0m \u001b[0mopen\u001b[0m\u001b[0;34m(\u001b[0m\u001b[0mos\u001b[0m\u001b[0;34m.\u001b[0m\u001b[0menviron\u001b[0m\u001b[0;34m[\u001b[0m\u001b[0;34m'OUTPUT_PATH'\u001b[0m\u001b[0;34m]\u001b[0m\u001b[0;34m,\u001b[0m \u001b[0;34m'w'\u001b[0m\u001b[0;34m)\u001b[0m\u001b[0;34m\u001b[0m\u001b[0;34m\u001b[0m\u001b[0m\n\u001b[0m\u001b[1;32m     33\u001b[0m \u001b[0;34m\u001b[0m\u001b[0m\n\u001b[1;32m     34\u001b[0m     \u001b[0mfirst_multiple_input\u001b[0m \u001b[0;34m=\u001b[0m \u001b[0minput\u001b[0m\u001b[0;34m(\u001b[0m\u001b[0;34m)\u001b[0m\u001b[0;34m.\u001b[0m\u001b[0mrstrip\u001b[0m\u001b[0;34m(\u001b[0m\u001b[0;34m)\u001b[0m\u001b[0;34m.\u001b[0m\u001b[0msplit\u001b[0m\u001b[0;34m(\u001b[0m\u001b[0;34m)\u001b[0m\u001b[0;34m\u001b[0m\u001b[0;34m\u001b[0m\u001b[0m\n",
            "\u001b[0;32m/usr/lib/python3.6/os.py\u001b[0m in \u001b[0;36m__getitem__\u001b[0;34m(self, key)\u001b[0m\n\u001b[1;32m    667\u001b[0m         \u001b[0;32mexcept\u001b[0m \u001b[0mKeyError\u001b[0m\u001b[0;34m:\u001b[0m\u001b[0;34m\u001b[0m\u001b[0;34m\u001b[0m\u001b[0m\n\u001b[1;32m    668\u001b[0m             \u001b[0;31m# raise KeyError with the original key value\u001b[0m\u001b[0;34m\u001b[0m\u001b[0;34m\u001b[0m\u001b[0;34m\u001b[0m\u001b[0m\n\u001b[0;32m--> 669\u001b[0;31m             \u001b[0;32mraise\u001b[0m \u001b[0mKeyError\u001b[0m\u001b[0;34m(\u001b[0m\u001b[0mkey\u001b[0m\u001b[0;34m)\u001b[0m \u001b[0;32mfrom\u001b[0m \u001b[0;32mNone\u001b[0m\u001b[0;34m\u001b[0m\u001b[0;34m\u001b[0m\u001b[0m\n\u001b[0m\u001b[1;32m    670\u001b[0m         \u001b[0;32mreturn\u001b[0m \u001b[0mself\u001b[0m\u001b[0;34m.\u001b[0m\u001b[0mdecodevalue\u001b[0m\u001b[0;34m(\u001b[0m\u001b[0mvalue\u001b[0m\u001b[0;34m)\u001b[0m\u001b[0;34m\u001b[0m\u001b[0;34m\u001b[0m\u001b[0m\n\u001b[1;32m    671\u001b[0m \u001b[0;34m\u001b[0m\u001b[0m\n",
            "\u001b[0;31mKeyError\u001b[0m: 'OUTPUT_PATH'"
          ]
        }
      ]
    },
    {
      "cell_type": "markdown",
      "metadata": {
        "id": "U9L7jGV72akL",
        "colab_type": "text"
      },
      "source": [
        "To simplify our explanation we'll use an eg.We need to get change for Rs.5 and available denomination are 1,2,5.Consider a matrix where the rows are denoted by [1],[1,2],[1,2,5] and the columns are denoted by 1,2,3,4,5 and each element in the matrix can take any value( 0,1,2,3,4).Let's assume that now we only have denomination of 1.For Re.1 we can give 1 coin for 2 Rs we can give the denomination.Same goes for 3,4,5.So our 1st row becomes(1,1,1,1,1).Now we initialize the second row with values in 1st row so (1,1,1,1,1).For Rs(1,2) denomination for 1 we cannot give Rs2 but definitely we can Re.1 therefore value for ([1,2],1) value is 1.But for 2,3 denominations we can give so to the second row we add 1 to each corresponding column so it becomes 2.For 4,5 denominations we add to 2 to corresponding columns so the value becomes 3.For third row we initialize it with values of second row (1,2,2,3,3).Now for row[1,2,5],No number takes the denomination 5 except 5 itself so we add 1 to corresponding column thereby making it 4.According to our original question we wanted to know in how many ways we can give change to Rs5,so final answer is 4 ways.In code instead of matrix we used array to simplify the code and the last element is returned.Which holds true since 5 can be exchanged in 4 ways(1,1,1,1,1),(1,1,1,2),(1,2,2),(5)[only permutations].Length of the array is n+1"
      ]
    },
    {
      "cell_type": "markdown",
      "metadata": {
        "id": "JTuMS1jB2bq5",
        "colab_type": "text"
      },
      "source": [
        "#Validating Post-Code"
      ]
    },
    {
      "cell_type": "code",
      "metadata": {
        "id": "20CvMNSy2ABh",
        "colab_type": "code",
        "colab": {}
      },
      "source": [
        "regex_integer_in_range = r\"______\"\t# Do not delete 'r'.\n",
        "regex_alternating_repetitive_digit_pair = r\"______\"\t# Do not delete 'r'.\n",
        "import sys\n",
        "input_std=sys.stdin\n",
        "\n",
        "import re\n",
        "line_read=input_std.readline().strip()\n",
        "print(re.match(\"^[1-9][0-9]{5}$\",line_read) !=None and [ord(line_read[i])-ord(line_read[i+2]) for i in range(4)].count(0)<=1)\n"
      ],
      "execution_count": null,
      "outputs": []
    },
    {
      "cell_type": "markdown",
      "metadata": {
        "id": "cV4IyBw93pXx",
        "colab_type": "text"
      },
      "source": [
        "Here we have to check whether the given input falls in range 100000 and 999999(both inclusive) and the alternate digits are the same but the number should have only one pair of it.For input we import sys and use stdin.For simplicity of the code we store sys.stdin in input_std symbolizing standard input. We import re package so that we can work with strings in a much convenient way.Now we read our number and store it in line_read.While reading we use input_std.readline().strip().readline() reads the entire line while strip () returns a copy of the string.Now for expression\n",
        "re.match(\"^[1-9][0-9]{5}$\",line_read) !=None and [ord(line_read[i])-ord(line_read[i+2]) for i in range(4)].count(0)<=1\n",
        "re.match returns a corresponding match.In re.match we see '^[1-9][0-9]{5}$'.\n",
        "'^' matches start of the string while '$' matches end of the string.[1-9] is the list of numbers we need to match for start of the string while[0-9] is the list of numbers we need to match with end of the string.{5} specifies the copies we need to match.Since our input is a six digit number we have specified [1-9] range for 1st digit while for remaining 5 digits uses [0-9] hence{5},line_read is the string we need to check for hence ',line_read'.'!= None' is added after re.match() means that the string should return None.The second condition is for checking only one pair of same alternate numbers should exist.ord() gives us the ASCII value of the arguement.For alternate starting from i=0 to i=3 we check alternate values using the condition that ord(line_read[i])-ord(line_read[i+2]) should be 0 and the count should be <=1.Both the conditions must be true hence we join it using 'and'.'and' returns True or False."
      ]
    },
    {
      "cell_type": "markdown",
      "metadata": {
        "id": "iIzEk4vD3puG",
        "colab_type": "text"
      },
      "source": [
        "#Sherlock and Cost"
      ]
    },
    {
      "cell_type": "code",
      "metadata": {
        "id": "3F9Zk8QA196I",
        "colab_type": "code",
        "colab": {}
      },
      "source": [
        "#!/bin/python3\n",
        "\n",
        "import math\n",
        "import os\n",
        "import random\n",
        "import re\n",
        "import sys\n",
        "\n",
        "# Complete the cost function below.\n",
        "def cost(B):\n",
        "    n= len(B)\n",
        "    Last,First=0,0\n",
        "    for i in range(1,n): # note we skip index 0\n",
        "        Last_to_First = abs(B[i-1] - 1)\n",
        "        First_to_Last = abs(B[i] - 1)\n",
        "        Last_to_Last = abs(B[i] - B[i-1])\n",
        "        \n",
        "        First_next = max(First, Last+Last_to_First)\n",
        "        Last_next = max(Last+Last_to_Last, First+First_to_Last)\n",
        "        \n",
        "        First = First_next\n",
        "        Last = Last_next\n",
        "    \n",
        "    return max (Last,First)\n",
        "\n",
        "if __name__ == '__main__':\n",
        "    fptr = open(os.environ['OUTPUT_PATH'], 'w')\n",
        "\n",
        "    t = int(input())\n",
        "\n",
        "    for t_itr in range(t):\n",
        "        n = int(input())\n",
        "\n",
        "        B = list(map(int, input().rstrip().split()))\n",
        "\n",
        "        result = cost(B)\n",
        "\n",
        "        fptr.write(str(result) + '\\n')\n",
        "\n",
        "    fptr.close()"
      ],
      "execution_count": null,
      "outputs": []
    },
    {
      "cell_type": "markdown",
      "metadata": {
        "id": "HPGfQ1YA3-Ux",
        "colab_type": "text"
      },
      "source": [
        "We need to calculate array A from array B such that 1<=A[i]<=B[i] and the cost S=summation(|A[i-1]-A[i]|) should be maximum.We intialize the first and last element of array A to 0.The for loop which we use iterates for n-1 times(n=length of array B).For 1st iteration Last_to_first is absolute value of B[0]-1,First to Last is absolute value of B[1]-1 and Last to last value is absolute value of B[1]-B[0].After this we calculate First next which is the maximum between First and Last to First and Last next by maximum of Last+Last to Last,First to First Last.Then our new First,Last=First next,Last next.The loop runs for n-1 times.Since we use max function and finding first next and last next the costs keep adding making it maximum.\n",
        "\n",
        "\n"
      ]
    },
    {
      "cell_type": "code",
      "metadata": {
        "id": "8Tr3mgNjDZ3f",
        "colab_type": "code",
        "colab": {
          "base_uri": "https://localhost:8080/",
          "height": 101
        },
        "outputId": "1ca9a8a1-ebb7-4f45-c5dd-bc55e968aec4"
      },
      "source": [
        "for i in range(5):\n",
        "  print(i)\n"
      ],
      "execution_count": 2,
      "outputs": [
        {
          "output_type": "stream",
          "text": [
            "0\n",
            "1\n",
            "2\n",
            "3\n",
            "4\n"
          ],
          "name": "stdout"
        }
      ]
    },
    {
      "cell_type": "code",
      "metadata": {
        "id": "eGOu0OqhDd3w",
        "colab_type": "code",
        "colab": {}
      },
      "source": [
        ""
      ],
      "execution_count": null,
      "outputs": []
    }
  ]
}