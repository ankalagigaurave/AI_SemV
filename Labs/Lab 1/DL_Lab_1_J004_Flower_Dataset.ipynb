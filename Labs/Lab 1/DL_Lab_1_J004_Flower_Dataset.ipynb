{
  "nbformat": 4,
  "nbformat_minor": 0,
  "metadata": {
    "colab": {
      "name": "DL_Lab_1_J004_Flower_Dataset",
      "provenance": [],
      "authorship_tag": "ABX9TyNgdEBIEaGE5Z71hyP5rX9y",
      "include_colab_link": true
    },
    "kernelspec": {
      "name": "python3",
      "display_name": "Python 3"
    },
    "accelerator": "GPU"
  },
  "cells": [
    {
      "cell_type": "markdown",
      "metadata": {
        "id": "view-in-github",
        "colab_type": "text"
      },
      "source": [
        "<a href=\"https://colab.research.google.com/github/ankalagigaurave/AI_SemV/blob/master/Labs/Lab%201/DL_Lab_1_J004_Flower_Dataset.ipynb\" target=\"_parent\"><img src=\"https://colab.research.google.com/assets/colab-badge.svg\" alt=\"Open In Colab\"/></a>"
      ]
    },
    {
      "cell_type": "code",
      "metadata": {
        "id": "2oboQcg6m7FA",
        "colab": {
          "base_uri": "https://localhost:8080/"
        },
        "outputId": "38e36750-dcb2-4a6a-8593-259680f75cd3"
      },
      "source": [
        "!rm -rf '/content/flowers'\r\n",
        "!rm flowers-new.zip"
      ],
      "execution_count": 1,
      "outputs": [
        {
          "output_type": "stream",
          "text": [
            "rm: cannot remove 'flowers-new.zip': No such file or directory\n"
          ],
          "name": "stdout"
        }
      ]
    },
    {
      "cell_type": "code",
      "metadata": {
        "id": "6CB4-u0fez6g"
      },
      "source": [
        "# Ignore  the warnings\r\n",
        "import warnings\r\n",
        "warnings.filterwarnings('always')\r\n",
        "warnings.filterwarnings('ignore')\r\n",
        "\r\n",
        "# data visualisation and manipulation\r\n",
        "import numpy as np\r\n",
        "import pandas as pd\r\n",
        "import matplotlib.pyplot as plt\r\n",
        "from matplotlib import style\r\n",
        "import seaborn as sns\r\n",
        " \r\n",
        "#configure\r\n",
        "# sets matplotlib to inline and displays graphs below the corressponding cell.\r\n",
        "%matplotlib inline  \r\n",
        "style.use('fivethirtyeight')\r\n",
        "sns.set(style='whitegrid',color_codes=True)\r\n",
        "\r\n",
        "#model selection\r\n",
        "from sklearn.model_selection import train_test_split\r\n",
        "from sklearn.model_selection import KFold\r\n",
        "from sklearn.metrics import accuracy_score,precision_score,recall_score,confusion_matrix,roc_curve,roc_auc_score\r\n",
        "from sklearn.model_selection import GridSearchCV\r\n",
        "from sklearn.preprocessing import LabelEncoder\r\n",
        "\r\n",
        "#preprocess.\r\n",
        "from keras.preprocessing.image import ImageDataGenerator\r\n",
        "\r\n",
        "#dl libraraies\r\n",
        "from keras import backend as K\r\n",
        "from keras.models import Sequential\r\n",
        "from keras.layers import Dense\r\n",
        "from keras.optimizers import Adam,SGD,Adagrad,Adadelta,RMSprop\r\n",
        "from keras.utils import to_categorical\r\n",
        "\r\n",
        "# specifically for cnn\r\n",
        "from keras.layers import Dropout, Flatten,Activation\r\n",
        "from keras.layers import Conv2D, MaxPooling2D, BatchNormalization\r\n",
        "\r\n",
        "from keras.callbacks import EarlyStopping,ModelCheckpoint \r\n",
        "\r\n",
        "import tensorflow as tf\r\n",
        "import random as rn\r\n",
        "\r\n",
        "# specifically for manipulating zipped images and getting numpy arrays of pixel values of images.\r\n",
        "import cv2                  \r\n",
        "import numpy as np  \r\n",
        "from tqdm import tqdm\r\n",
        "import os                   \r\n",
        "from random import shuffle  \r\n",
        "from zipfile import ZipFile\r\n",
        "from PIL import Image"
      ],
      "execution_count": 2,
      "outputs": []
    },
    {
      "cell_type": "code",
      "metadata": {
        "colab": {
          "base_uri": "https://localhost:8080/"
        },
        "id": "mX4C7QyDYz4Y",
        "outputId": "8b0b4103-6952-49e7-fa8b-eb95ccd3d8d7"
      },
      "source": [
        "#Getting the dataset\r\n",
        "!wget http://upscfever.com/datasets/flowers-new.zip\r\n",
        "#Unzipping the dataset\r\n",
        "!unzip -q flowers-new.zip #-q is specified to remove the info displayed for each image"
      ],
      "execution_count": 3,
      "outputs": [
        {
          "output_type": "stream",
          "text": [
            "--2020-12-11 01:42:27--  http://upscfever.com/datasets/flowers-new.zip\n",
            "Resolving upscfever.com (upscfever.com)... 104.27.176.133, 172.67.193.2, 104.27.177.133, ...\n",
            "Connecting to upscfever.com (upscfever.com)|104.27.176.133|:80... connected.\n",
            "HTTP request sent, awaiting response... 301 Moved Permanently\n",
            "Location: https://upscfever.com/datasets/flowers-new.zip [following]\n",
            "--2020-12-11 01:42:28--  https://upscfever.com/datasets/flowers-new.zip\n",
            "Connecting to upscfever.com (upscfever.com)|104.27.176.133|:443... connected.\n",
            "HTTP request sent, awaiting response... 200 OK\n",
            "Length: unspecified [application/zip]\n",
            "Saving to: ‘flowers-new.zip’\n",
            "\n",
            "flowers-new.zip         [          <=>       ]   5.74M  2.55MB/s    in 2.2s    \n",
            "\n",
            "2020-12-11 01:42:33 (2.55 MB/s) - ‘flowers-new.zip’ saved [6021364]\n",
            "\n"
          ],
          "name": "stdout"
        }
      ]
    },
    {
      "cell_type": "code",
      "metadata": {
        "id": "LzTbwucpY5CY"
      },
      "source": [
        "#Defining a function to generate more data with slight variations for training\r\n",
        "def gen_data(flower):\r\n",
        "  label = flower\r\n",
        "  path = '/content/flowers/' + flower\r\n",
        "  img_list = os.listdir(path)\r\n",
        "  for img in img_list:\r\n",
        "    img = cv2.imread(path + '/' + img)\r\n",
        "    img = img.reshape((1,) + img.shape) \r\n",
        "\r\n",
        "    augment = ImageDataGenerator(rescale = 1./255, zoom_range = 0.1, \r\n",
        "                             height_shift_range = 0.1, shear_range = 5, rotation_range = 5,\r\n",
        "                             horizontal_flip = True)\r\n",
        "\r\n",
        "    i = 0\r\n",
        "    for batch in augment.flow(img, batch_size = 1, save_to_dir = path + '/', save_prefix = 'gen', \r\n",
        "                        save_format = 'jpeg'):\r\n",
        "      i = i+1\r\n",
        "      if i == 20: break"
      ],
      "execution_count": 4,
      "outputs": []
    },
    {
      "cell_type": "code",
      "metadata": {
        "id": "quvnJyuqZEw_"
      },
      "source": [
        "#Defining a function to compile our dataset since our data is in different folders\r\n",
        "x = []\r\n",
        "y = []\r\n",
        "def compile_data(flower):\r\n",
        "  label = flower\r\n",
        "  path = '/content/flowers/' + flower\r\n",
        "  img_list = os.listdir(path)\r\n",
        "  for img in img_list:\r\n",
        "    img = cv2.imread(path + '/' + img)\r\n",
        "    img = cv2.resize(img, (150, 150))\r\n",
        "    x.append(img)\r\n",
        "    y.append(label)"
      ],
      "execution_count": 5,
      "outputs": []
    },
    {
      "cell_type": "code",
      "metadata": {
        "id": "9AfW1Ba-ZMXa"
      },
      "source": [
        "#Generating more data for each flower\r\n",
        "gen_data('daisy')\r\n",
        "gen_data('dandelion')\r\n",
        "gen_data('rose')\r\n",
        "gen_data('sunflower')\r\n",
        "gen_data('tulip')"
      ],
      "execution_count": 6,
      "outputs": []
    },
    {
      "cell_type": "code",
      "metadata": {
        "id": "ST6BZuXbZOJc"
      },
      "source": [
        "#Compiling all the data\r\n",
        "compile_data('daisy')\r\n",
        "compile_data('dandelion')\r\n",
        "compile_data('rose')\r\n",
        "compile_data('sunflower')\r\n",
        "compile_data('tulip')"
      ],
      "execution_count": 7,
      "outputs": []
    },
    {
      "cell_type": "code",
      "metadata": {
        "colab": {
          "base_uri": "https://localhost:8080/"
        },
        "id": "xhRPlEOtZS1Z",
        "outputId": "26a2d88f-7ef9-4776-9d2c-bce89f63b4eb"
      },
      "source": [
        "#Converting all the images into NumPy Array, Reshaping then Scaling\r\n",
        "x = np.array(x)\r\n",
        "x = np.reshape(x, (len(x), 150*150*3))\r\n",
        "x = x/255\r\n",
        "np.shape(x)"
      ],
      "execution_count": 8,
      "outputs": [
        {
          "output_type": "execute_result",
          "data": {
            "text/plain": [
              "(2393, 67500)"
            ]
          },
          "metadata": {
            "tags": []
          },
          "execution_count": 8
        }
      ]
    },
    {
      "cell_type": "code",
      "metadata": {
        "colab": {
          "base_uri": "https://localhost:8080/"
        },
        "id": "Ch_amq-lZckl",
        "outputId": "e2d4e6ac-f31a-4278-add0-683bac2bd45f"
      },
      "source": [
        "#Converting all the flowers into labels\r\n",
        "LE = LabelEncoder()\r\n",
        "y = LE.fit_transform(y)\r\n",
        "y = to_categorical(y)\r\n",
        "y"
      ],
      "execution_count": 9,
      "outputs": [
        {
          "output_type": "execute_result",
          "data": {
            "text/plain": [
              "array([[1., 0., 0., 0., 0.],\n",
              "       [1., 0., 0., 0., 0.],\n",
              "       [1., 0., 0., 0., 0.],\n",
              "       ...,\n",
              "       [0., 0., 0., 0., 1.],\n",
              "       [0., 0., 0., 0., 1.],\n",
              "       [0., 0., 0., 0., 1.]], dtype=float32)"
            ]
          },
          "metadata": {
            "tags": []
          },
          "execution_count": 9
        }
      ]
    },
    {
      "cell_type": "code",
      "metadata": {
        "id": "ZyrHtu9Yfjbq"
      },
      "source": [
        "x_train,x_test,y_train,y_test=train_test_split(x,y,test_size=0.25,random_state=42)"
      ],
      "execution_count": 10,
      "outputs": []
    },
    {
      "cell_type": "code",
      "metadata": {
        "colab": {
          "base_uri": "https://localhost:8080/"
        },
        "id": "Wz9xXeBr1FDf",
        "outputId": "b991a21f-fafd-421d-dee6-75b68795b7bf"
      },
      "source": [
        "y_test.shape"
      ],
      "execution_count": 11,
      "outputs": [
        {
          "output_type": "execute_result",
          "data": {
            "text/plain": [
              "(599, 5)"
            ]
          },
          "metadata": {
            "tags": []
          },
          "execution_count": 11
        }
      ]
    },
    {
      "cell_type": "code",
      "metadata": {
        "colab": {
          "base_uri": "https://localhost:8080/"
        },
        "id": "QHUfi9nN1HPd",
        "outputId": "e5ab51d2-660d-4fec-9bc1-3d2b0481222b"
      },
      "source": [
        "y_train.shape"
      ],
      "execution_count": 12,
      "outputs": [
        {
          "output_type": "execute_result",
          "data": {
            "text/plain": [
              "(1794, 5)"
            ]
          },
          "metadata": {
            "tags": []
          },
          "execution_count": 12
        }
      ]
    },
    {
      "cell_type": "code",
      "metadata": {
        "id": "pYLOyQBEflQP"
      },
      "source": [
        "np.random.seed(42)\r\n",
        "rn.seed(42)\r\n"
      ],
      "execution_count": 13,
      "outputs": []
    },
    {
      "cell_type": "code",
      "metadata": {
        "colab": {
          "base_uri": "https://localhost:8080/"
        },
        "id": "xV7RucjafnN_",
        "outputId": "2f6cc93f-e286-4cd4-f4eb-ea195c8dd6c2"
      },
      "source": [
        "flower_ann = Sequential()\r\n",
        "flower_ann.add(Dense(1024, activation=\"relu\",input_shape=(150*150*3,)))\r\n",
        "flower_ann.add(Dense(512, activation=\"relu\"))\r\n",
        "flower_ann.add(Dense(128, activation=\"relu\"))\r\n",
        "flower_ann.add(Dense(64, activation=\"relu\"))\r\n",
        "flower_ann.add(Dense(5, activation=\"softmax\"))\r\n",
        "\r\n",
        "flower_ann.summary()"
      ],
      "execution_count": 14,
      "outputs": [
        {
          "output_type": "stream",
          "text": [
            "Model: \"sequential\"\n",
            "_________________________________________________________________\n",
            "Layer (type)                 Output Shape              Param #   \n",
            "=================================================================\n",
            "dense (Dense)                (None, 1024)              69121024  \n",
            "_________________________________________________________________\n",
            "dense_1 (Dense)              (None, 512)               524800    \n",
            "_________________________________________________________________\n",
            "dense_2 (Dense)              (None, 128)               65664     \n",
            "_________________________________________________________________\n",
            "dense_3 (Dense)              (None, 64)                8256      \n",
            "_________________________________________________________________\n",
            "dense_4 (Dense)              (None, 5)                 325       \n",
            "=================================================================\n",
            "Total params: 69,720,069\n",
            "Trainable params: 69,720,069\n",
            "Non-trainable params: 0\n",
            "_________________________________________________________________\n"
          ],
          "name": "stdout"
        }
      ]
    },
    {
      "cell_type": "code",
      "metadata": {
        "id": "8sZXBVI-hHzs"
      },
      "source": [
        "flower_ann.compile(optimizer=\"adam\",\r\n",
        "           loss='categorical_crossentropy',\r\n",
        "           metrics = ['accuracy'])\r\n",
        "es = EarlyStopping(monitor='val_loss', mode='min', verbose=1, patience=200)\r\n",
        "mc = ModelCheckpoint('best_model.h5', monitor='val_accuracy', mode='max', verbose=1, save_best_only=True)"
      ],
      "execution_count": 15,
      "outputs": []
    },
    {
      "cell_type": "code",
      "metadata": {
        "colab": {
          "base_uri": "https://localhost:8080/"
        },
        "id": "L-2rAi_Wi07G",
        "outputId": "12a00164-23ad-43e1-c2f2-bca2db1d9bc2"
      },
      "source": [
        "history = flower_ann.fit(x_train,y_train, epochs=100, batch_size = 100, validation_split=0.25, verbose=2,callbacks=[es,mc])"
      ],
      "execution_count": 16,
      "outputs": [
        {
          "output_type": "stream",
          "text": [
            "Epoch 1/100\n",
            "\n",
            "Epoch 00001: val_accuracy improved from -inf to 0.27617, saving model to best_model.h5\n",
            "14/14 - 4s - loss: 27.2538 - accuracy: 0.2193 - val_loss: 18.3470 - val_accuracy: 0.2762\n",
            "Epoch 2/100\n",
            "\n",
            "Epoch 00002: val_accuracy did not improve from 0.27617\n",
            "14/14 - 1s - loss: 14.6912 - accuracy: 0.2721 - val_loss: 5.5522 - val_accuracy: 0.2584\n",
            "Epoch 3/100\n",
            "\n",
            "Epoch 00003: val_accuracy improved from 0.27617 to 0.43430, saving model to best_model.h5\n",
            "14/14 - 11s - loss: 3.3653 - accuracy: 0.3717 - val_loss: 2.6509 - val_accuracy: 0.4343\n",
            "Epoch 4/100\n",
            "\n",
            "Epoch 00004: val_accuracy improved from 0.43430 to 0.53898, saving model to best_model.h5\n",
            "14/14 - 17s - loss: 1.4963 - accuracy: 0.5472 - val_loss: 1.1622 - val_accuracy: 0.5390\n",
            "Epoch 5/100\n",
            "\n",
            "Epoch 00005: val_accuracy improved from 0.53898 to 0.54566, saving model to best_model.h5\n",
            "14/14 - 22s - loss: 1.3518 - accuracy: 0.5584 - val_loss: 1.2072 - val_accuracy: 0.5457\n",
            "Epoch 6/100\n",
            "\n",
            "Epoch 00006: val_accuracy improved from 0.54566 to 0.57016, saving model to best_model.h5\n",
            "14/14 - 20s - loss: 1.0553 - accuracy: 0.6171 - val_loss: 1.1365 - val_accuracy: 0.5702\n",
            "Epoch 7/100\n",
            "\n",
            "Epoch 00007: val_accuracy improved from 0.57016 to 0.62361, saving model to best_model.h5\n",
            "14/14 - 23s - loss: 0.7841 - accuracy: 0.6989 - val_loss: 1.0323 - val_accuracy: 0.6236\n",
            "Epoch 8/100\n",
            "\n",
            "Epoch 00008: val_accuracy did not improve from 0.62361\n",
            "14/14 - 1s - loss: 0.8083 - accuracy: 0.6989 - val_loss: 1.0242 - val_accuracy: 0.6080\n",
            "Epoch 9/100\n",
            "\n",
            "Epoch 00009: val_accuracy improved from 0.62361 to 0.71047, saving model to best_model.h5\n",
            "14/14 - 21s - loss: 0.6777 - accuracy: 0.7279 - val_loss: 0.7671 - val_accuracy: 0.7105\n",
            "Epoch 10/100\n",
            "\n",
            "Epoch 00010: val_accuracy did not improve from 0.71047\n",
            "14/14 - 1s - loss: 0.6489 - accuracy: 0.7435 - val_loss: 0.7098 - val_accuracy: 0.6904\n",
            "Epoch 11/100\n",
            "\n",
            "Epoch 00011: val_accuracy did not improve from 0.71047\n",
            "14/14 - 0s - loss: 0.5362 - accuracy: 0.8126 - val_loss: 0.7912 - val_accuracy: 0.6882\n",
            "Epoch 12/100\n",
            "\n",
            "Epoch 00012: val_accuracy did not improve from 0.71047\n",
            "14/14 - 0s - loss: 0.5969 - accuracy: 0.7903 - val_loss: 0.6809 - val_accuracy: 0.7016\n",
            "Epoch 13/100\n",
            "\n",
            "Epoch 00013: val_accuracy improved from 0.71047 to 0.75724, saving model to best_model.h5\n",
            "14/14 - 16s - loss: 0.4998 - accuracy: 0.8364 - val_loss: 0.6617 - val_accuracy: 0.7572\n",
            "Epoch 14/100\n",
            "\n",
            "Epoch 00014: val_accuracy improved from 0.75724 to 0.77283, saving model to best_model.h5\n",
            "14/14 - 22s - loss: 0.4224 - accuracy: 0.8639 - val_loss: 0.5789 - val_accuracy: 0.7728\n",
            "Epoch 15/100\n",
            "\n",
            "Epoch 00015: val_accuracy improved from 0.77283 to 0.78396, saving model to best_model.h5\n",
            "14/14 - 22s - loss: 0.3363 - accuracy: 0.9130 - val_loss: 0.5843 - val_accuracy: 0.7840\n",
            "Epoch 16/100\n",
            "\n",
            "Epoch 00016: val_accuracy did not improve from 0.78396\n",
            "14/14 - 1s - loss: 0.3031 - accuracy: 0.9204 - val_loss: 0.5916 - val_accuracy: 0.7550\n",
            "Epoch 17/100\n",
            "\n",
            "Epoch 00017: val_accuracy improved from 0.78396 to 0.79065, saving model to best_model.h5\n",
            "14/14 - 20s - loss: 0.2776 - accuracy: 0.9316 - val_loss: 0.5335 - val_accuracy: 0.7906\n",
            "Epoch 18/100\n",
            "\n",
            "Epoch 00018: val_accuracy improved from 0.79065 to 0.79733, saving model to best_model.h5\n",
            "14/14 - 21s - loss: 0.3061 - accuracy: 0.9086 - val_loss: 0.4936 - val_accuracy: 0.7973\n",
            "Epoch 19/100\n",
            "\n",
            "Epoch 00019: val_accuracy improved from 0.79733 to 0.82851, saving model to best_model.h5\n",
            "14/14 - 21s - loss: 0.2311 - accuracy: 0.9428 - val_loss: 0.4616 - val_accuracy: 0.8285\n",
            "Epoch 20/100\n",
            "\n",
            "Epoch 00020: val_accuracy did not improve from 0.82851\n",
            "14/14 - 0s - loss: 0.2077 - accuracy: 0.9584 - val_loss: 0.4945 - val_accuracy: 0.8129\n",
            "Epoch 21/100\n",
            "\n",
            "Epoch 00021: val_accuracy improved from 0.82851 to 0.83296, saving model to best_model.h5\n",
            "14/14 - 20s - loss: 0.1978 - accuracy: 0.9554 - val_loss: 0.4309 - val_accuracy: 0.8330\n",
            "Epoch 22/100\n",
            "\n",
            "Epoch 00022: val_accuracy did not improve from 0.83296\n",
            "14/14 - 1s - loss: 0.1693 - accuracy: 0.9740 - val_loss: 0.4611 - val_accuracy: 0.7951\n",
            "Epoch 23/100\n",
            "\n",
            "Epoch 00023: val_accuracy improved from 0.83296 to 0.83964, saving model to best_model.h5\n",
            "14/14 - 21s - loss: 0.1658 - accuracy: 0.9643 - val_loss: 0.4176 - val_accuracy: 0.8396\n",
            "Epoch 24/100\n",
            "\n",
            "Epoch 00024: val_accuracy improved from 0.83964 to 0.84187, saving model to best_model.h5\n",
            "14/14 - 20s - loss: 0.1419 - accuracy: 0.9762 - val_loss: 0.4967 - val_accuracy: 0.8419\n",
            "Epoch 25/100\n",
            "\n",
            "Epoch 00025: val_accuracy improved from 0.84187 to 0.85969, saving model to best_model.h5\n",
            "14/14 - 20s - loss: 0.1404 - accuracy: 0.9747 - val_loss: 0.3962 - val_accuracy: 0.8597\n",
            "Epoch 26/100\n",
            "\n",
            "Epoch 00026: val_accuracy did not improve from 0.85969\n",
            "14/14 - 1s - loss: 0.1128 - accuracy: 0.9851 - val_loss: 0.4014 - val_accuracy: 0.8575\n",
            "Epoch 27/100\n",
            "\n",
            "Epoch 00027: val_accuracy improved from 0.85969 to 0.88864, saving model to best_model.h5\n",
            "14/14 - 20s - loss: 0.0936 - accuracy: 0.9903 - val_loss: 0.3574 - val_accuracy: 0.8886\n",
            "Epoch 28/100\n",
            "\n",
            "Epoch 00028: val_accuracy did not improve from 0.88864\n",
            "14/14 - 1s - loss: 0.0774 - accuracy: 0.9933 - val_loss: 0.3855 - val_accuracy: 0.8664\n",
            "Epoch 29/100\n",
            "\n",
            "Epoch 00029: val_accuracy did not improve from 0.88864\n",
            "14/14 - 0s - loss: 0.0703 - accuracy: 0.9970 - val_loss: 0.4041 - val_accuracy: 0.8508\n",
            "Epoch 30/100\n",
            "\n",
            "Epoch 00030: val_accuracy did not improve from 0.88864\n",
            "14/14 - 0s - loss: 0.0707 - accuracy: 0.9933 - val_loss: 0.3632 - val_accuracy: 0.8842\n",
            "Epoch 31/100\n",
            "\n",
            "Epoch 00031: val_accuracy did not improve from 0.88864\n",
            "14/14 - 0s - loss: 0.0565 - accuracy: 0.9955 - val_loss: 0.3752 - val_accuracy: 0.8753\n",
            "Epoch 32/100\n",
            "\n",
            "Epoch 00032: val_accuracy did not improve from 0.88864\n",
            "14/14 - 0s - loss: 0.0508 - accuracy: 0.9978 - val_loss: 0.3600 - val_accuracy: 0.8797\n",
            "Epoch 33/100\n",
            "\n",
            "Epoch 00033: val_accuracy did not improve from 0.88864\n",
            "14/14 - 0s - loss: 0.0462 - accuracy: 0.9970 - val_loss: 0.3139 - val_accuracy: 0.8886\n",
            "Epoch 34/100\n",
            "\n",
            "Epoch 00034: val_accuracy did not improve from 0.88864\n",
            "14/14 - 0s - loss: 0.0372 - accuracy: 0.9985 - val_loss: 0.4100 - val_accuracy: 0.8441\n",
            "Epoch 35/100\n",
            "\n",
            "Epoch 00035: val_accuracy improved from 0.88864 to 0.89532, saving model to best_model.h5\n",
            "14/14 - 17s - loss: 0.0335 - accuracy: 0.9993 - val_loss: 0.2954 - val_accuracy: 0.8953\n",
            "Epoch 36/100\n",
            "\n",
            "Epoch 00036: val_accuracy did not improve from 0.89532\n",
            "14/14 - 0s - loss: 0.0310 - accuracy: 0.9985 - val_loss: 0.3456 - val_accuracy: 0.8775\n",
            "Epoch 37/100\n",
            "\n",
            "Epoch 00037: val_accuracy did not improve from 0.89532\n",
            "14/14 - 0s - loss: 0.0423 - accuracy: 0.9970 - val_loss: 0.3101 - val_accuracy: 0.8886\n",
            "Epoch 38/100\n",
            "\n",
            "Epoch 00038: val_accuracy did not improve from 0.89532\n",
            "14/14 - 0s - loss: 0.0398 - accuracy: 0.9941 - val_loss: 0.3860 - val_accuracy: 0.8597\n",
            "Epoch 39/100\n",
            "\n",
            "Epoch 00039: val_accuracy did not improve from 0.89532\n",
            "14/14 - 0s - loss: 0.1438 - accuracy: 0.9532 - val_loss: 0.4389 - val_accuracy: 0.8575\n",
            "Epoch 40/100\n",
            "\n",
            "Epoch 00040: val_accuracy did not improve from 0.89532\n",
            "14/14 - 0s - loss: 0.1016 - accuracy: 0.9725 - val_loss: 0.3421 - val_accuracy: 0.8775\n",
            "Epoch 41/100\n",
            "\n",
            "Epoch 00041: val_accuracy did not improve from 0.89532\n",
            "14/14 - 0s - loss: 0.0497 - accuracy: 0.9918 - val_loss: 0.5021 - val_accuracy: 0.8463\n",
            "Epoch 42/100\n",
            "\n",
            "Epoch 00042: val_accuracy did not improve from 0.89532\n",
            "14/14 - 0s - loss: 0.0453 - accuracy: 0.9911 - val_loss: 0.3078 - val_accuracy: 0.8931\n",
            "Epoch 43/100\n",
            "\n",
            "Epoch 00043: val_accuracy did not improve from 0.89532\n",
            "14/14 - 0s - loss: 0.0355 - accuracy: 0.9941 - val_loss: 0.3980 - val_accuracy: 0.8552\n",
            "Epoch 44/100\n",
            "\n",
            "Epoch 00044: val_accuracy did not improve from 0.89532\n",
            "14/14 - 0s - loss: 0.0207 - accuracy: 0.9993 - val_loss: 0.3217 - val_accuracy: 0.8931\n",
            "Epoch 45/100\n",
            "\n",
            "Epoch 00045: val_accuracy did not improve from 0.89532\n",
            "14/14 - 0s - loss: 0.0165 - accuracy: 1.0000 - val_loss: 0.2797 - val_accuracy: 0.8953\n",
            "Epoch 46/100\n",
            "\n",
            "Epoch 00046: val_accuracy improved from 0.89532 to 0.90869, saving model to best_model.h5\n",
            "14/14 - 15s - loss: 0.0133 - accuracy: 1.0000 - val_loss: 0.2809 - val_accuracy: 0.9087\n",
            "Epoch 47/100\n",
            "\n",
            "Epoch 00047: val_accuracy did not improve from 0.90869\n",
            "14/14 - 1s - loss: 0.0113 - accuracy: 1.0000 - val_loss: 0.3140 - val_accuracy: 0.8998\n",
            "Epoch 48/100\n",
            "\n",
            "Epoch 00048: val_accuracy did not improve from 0.90869\n",
            "14/14 - 0s - loss: 0.0105 - accuracy: 0.9993 - val_loss: 0.3192 - val_accuracy: 0.8909\n",
            "Epoch 49/100\n",
            "\n",
            "Epoch 00049: val_accuracy did not improve from 0.90869\n",
            "14/14 - 0s - loss: 0.0083 - accuracy: 1.0000 - val_loss: 0.2901 - val_accuracy: 0.8976\n",
            "Epoch 50/100\n",
            "\n",
            "Epoch 00050: val_accuracy did not improve from 0.90869\n",
            "14/14 - 0s - loss: 0.0076 - accuracy: 1.0000 - val_loss: 0.3001 - val_accuracy: 0.8998\n",
            "Epoch 51/100\n",
            "\n",
            "Epoch 00051: val_accuracy did not improve from 0.90869\n",
            "14/14 - 0s - loss: 0.0071 - accuracy: 1.0000 - val_loss: 0.2850 - val_accuracy: 0.8976\n",
            "Epoch 52/100\n",
            "\n",
            "Epoch 00052: val_accuracy did not improve from 0.90869\n",
            "14/14 - 0s - loss: 0.0071 - accuracy: 1.0000 - val_loss: 0.2834 - val_accuracy: 0.9020\n",
            "Epoch 53/100\n",
            "\n",
            "Epoch 00053: val_accuracy did not improve from 0.90869\n",
            "14/14 - 0s - loss: 0.0066 - accuracy: 1.0000 - val_loss: 0.2759 - val_accuracy: 0.9065\n",
            "Epoch 54/100\n",
            "\n",
            "Epoch 00054: val_accuracy did not improve from 0.90869\n",
            "14/14 - 0s - loss: 0.0061 - accuracy: 1.0000 - val_loss: 0.3022 - val_accuracy: 0.9042\n",
            "Epoch 55/100\n",
            "\n",
            "Epoch 00055: val_accuracy did not improve from 0.90869\n",
            "14/14 - 0s - loss: 0.0058 - accuracy: 1.0000 - val_loss: 0.3012 - val_accuracy: 0.8953\n",
            "Epoch 56/100\n",
            "\n",
            "Epoch 00056: val_accuracy did not improve from 0.90869\n",
            "14/14 - 0s - loss: 0.0075 - accuracy: 1.0000 - val_loss: 0.3097 - val_accuracy: 0.8953\n",
            "Epoch 57/100\n",
            "\n",
            "Epoch 00057: val_accuracy improved from 0.90869 to 0.91537, saving model to best_model.h5\n",
            "14/14 - 15s - loss: 0.0051 - accuracy: 1.0000 - val_loss: 0.2827 - val_accuracy: 0.9154\n",
            "Epoch 58/100\n",
            "\n",
            "Epoch 00058: val_accuracy did not improve from 0.91537\n",
            "14/14 - 1s - loss: 0.0046 - accuracy: 1.0000 - val_loss: 0.2898 - val_accuracy: 0.9065\n",
            "Epoch 59/100\n",
            "\n",
            "Epoch 00059: val_accuracy did not improve from 0.91537\n",
            "14/14 - 0s - loss: 0.0042 - accuracy: 1.0000 - val_loss: 0.2876 - val_accuracy: 0.9065\n",
            "Epoch 60/100\n",
            "\n",
            "Epoch 00060: val_accuracy did not improve from 0.91537\n",
            "14/14 - 0s - loss: 0.0038 - accuracy: 1.0000 - val_loss: 0.3039 - val_accuracy: 0.9065\n",
            "Epoch 61/100\n",
            "\n",
            "Epoch 00061: val_accuracy did not improve from 0.91537\n",
            "14/14 - 0s - loss: 0.0033 - accuracy: 1.0000 - val_loss: 0.3158 - val_accuracy: 0.8998\n",
            "Epoch 62/100\n",
            "\n",
            "Epoch 00062: val_accuracy did not improve from 0.91537\n",
            "14/14 - 0s - loss: 0.0030 - accuracy: 1.0000 - val_loss: 0.3026 - val_accuracy: 0.9042\n",
            "Epoch 63/100\n",
            "\n",
            "Epoch 00063: val_accuracy did not improve from 0.91537\n",
            "14/14 - 0s - loss: 0.0026 - accuracy: 1.0000 - val_loss: 0.3078 - val_accuracy: 0.9042\n",
            "Epoch 64/100\n",
            "\n",
            "Epoch 00064: val_accuracy did not improve from 0.91537\n",
            "14/14 - 0s - loss: 0.0024 - accuracy: 1.0000 - val_loss: 0.3144 - val_accuracy: 0.9020\n",
            "Epoch 65/100\n",
            "\n",
            "Epoch 00065: val_accuracy did not improve from 0.91537\n",
            "14/14 - 0s - loss: 0.0022 - accuracy: 1.0000 - val_loss: 0.3070 - val_accuracy: 0.9042\n",
            "Epoch 66/100\n",
            "\n",
            "Epoch 00066: val_accuracy did not improve from 0.91537\n",
            "14/14 - 0s - loss: 0.0020 - accuracy: 1.0000 - val_loss: 0.3099 - val_accuracy: 0.9020\n",
            "Epoch 67/100\n",
            "\n",
            "Epoch 00067: val_accuracy did not improve from 0.91537\n",
            "14/14 - 0s - loss: 0.0019 - accuracy: 1.0000 - val_loss: 0.3250 - val_accuracy: 0.9042\n",
            "Epoch 68/100\n",
            "\n",
            "Epoch 00068: val_accuracy did not improve from 0.91537\n",
            "14/14 - 0s - loss: 0.0018 - accuracy: 1.0000 - val_loss: 0.3346 - val_accuracy: 0.8998\n",
            "Epoch 69/100\n",
            "\n",
            "Epoch 00069: val_accuracy did not improve from 0.91537\n",
            "14/14 - 0s - loss: 0.0016 - accuracy: 1.0000 - val_loss: 0.3515 - val_accuracy: 0.8998\n",
            "Epoch 70/100\n",
            "\n",
            "Epoch 00070: val_accuracy did not improve from 0.91537\n",
            "14/14 - 0s - loss: 0.0016 - accuracy: 1.0000 - val_loss: 0.3478 - val_accuracy: 0.8998\n",
            "Epoch 71/100\n",
            "\n",
            "Epoch 00071: val_accuracy did not improve from 0.91537\n",
            "14/14 - 0s - loss: 0.0014 - accuracy: 1.0000 - val_loss: 0.3514 - val_accuracy: 0.8976\n",
            "Epoch 72/100\n",
            "\n",
            "Epoch 00072: val_accuracy did not improve from 0.91537\n",
            "14/14 - 0s - loss: 0.0013 - accuracy: 1.0000 - val_loss: 0.3186 - val_accuracy: 0.9042\n",
            "Epoch 73/100\n",
            "\n",
            "Epoch 00073: val_accuracy did not improve from 0.91537\n",
            "14/14 - 0s - loss: 0.0013 - accuracy: 1.0000 - val_loss: 0.3254 - val_accuracy: 0.9065\n",
            "Epoch 74/100\n",
            "\n",
            "Epoch 00074: val_accuracy did not improve from 0.91537\n",
            "14/14 - 0s - loss: 0.0012 - accuracy: 1.0000 - val_loss: 0.3375 - val_accuracy: 0.9065\n",
            "Epoch 75/100\n",
            "\n",
            "Epoch 00075: val_accuracy did not improve from 0.91537\n",
            "14/14 - 0s - loss: 0.0011 - accuracy: 1.0000 - val_loss: 0.3510 - val_accuracy: 0.9042\n",
            "Epoch 76/100\n",
            "\n",
            "Epoch 00076: val_accuracy did not improve from 0.91537\n",
            "14/14 - 0s - loss: 0.0010 - accuracy: 1.0000 - val_loss: 0.3395 - val_accuracy: 0.9065\n",
            "Epoch 77/100\n",
            "\n",
            "Epoch 00077: val_accuracy did not improve from 0.91537\n",
            "14/14 - 0s - loss: 9.9289e-04 - accuracy: 1.0000 - val_loss: 0.3242 - val_accuracy: 0.9065\n",
            "Epoch 78/100\n",
            "\n",
            "Epoch 00078: val_accuracy did not improve from 0.91537\n",
            "14/14 - 0s - loss: 9.7623e-04 - accuracy: 1.0000 - val_loss: 0.3201 - val_accuracy: 0.9109\n",
            "Epoch 79/100\n",
            "\n",
            "Epoch 00079: val_accuracy did not improve from 0.91537\n",
            "14/14 - 0s - loss: 9.1605e-04 - accuracy: 1.0000 - val_loss: 0.3262 - val_accuracy: 0.9087\n",
            "Epoch 80/100\n",
            "\n",
            "Epoch 00080: val_accuracy did not improve from 0.91537\n",
            "14/14 - 0s - loss: 8.8409e-04 - accuracy: 1.0000 - val_loss: 0.3372 - val_accuracy: 0.9087\n",
            "Epoch 81/100\n",
            "\n",
            "Epoch 00081: val_accuracy did not improve from 0.91537\n",
            "14/14 - 0s - loss: 8.4896e-04 - accuracy: 1.0000 - val_loss: 0.3474 - val_accuracy: 0.9020\n",
            "Epoch 82/100\n",
            "\n",
            "Epoch 00082: val_accuracy did not improve from 0.91537\n",
            "14/14 - 0s - loss: 8.2185e-04 - accuracy: 1.0000 - val_loss: 0.3340 - val_accuracy: 0.9109\n",
            "Epoch 83/100\n",
            "\n",
            "Epoch 00083: val_accuracy did not improve from 0.91537\n",
            "14/14 - 0s - loss: 7.7038e-04 - accuracy: 1.0000 - val_loss: 0.3551 - val_accuracy: 0.9020\n",
            "Epoch 84/100\n",
            "\n",
            "Epoch 00084: val_accuracy did not improve from 0.91537\n",
            "14/14 - 0s - loss: 7.4648e-04 - accuracy: 1.0000 - val_loss: 0.3523 - val_accuracy: 0.9087\n",
            "Epoch 85/100\n",
            "\n",
            "Epoch 00085: val_accuracy did not improve from 0.91537\n",
            "14/14 - 0s - loss: 7.2383e-04 - accuracy: 1.0000 - val_loss: 0.3516 - val_accuracy: 0.9065\n",
            "Epoch 86/100\n",
            "\n",
            "Epoch 00086: val_accuracy did not improve from 0.91537\n",
            "14/14 - 0s - loss: 6.9161e-04 - accuracy: 1.0000 - val_loss: 0.3600 - val_accuracy: 0.9065\n",
            "Epoch 87/100\n",
            "\n",
            "Epoch 00087: val_accuracy did not improve from 0.91537\n",
            "14/14 - 0s - loss: 6.7650e-04 - accuracy: 1.0000 - val_loss: 0.3730 - val_accuracy: 0.9042\n",
            "Epoch 88/100\n",
            "\n",
            "Epoch 00088: val_accuracy did not improve from 0.91537\n",
            "14/14 - 0s - loss: 6.6332e-04 - accuracy: 1.0000 - val_loss: 0.3955 - val_accuracy: 0.9065\n",
            "Epoch 89/100\n",
            "\n",
            "Epoch 00089: val_accuracy did not improve from 0.91537\n",
            "14/14 - 0s - loss: 6.4791e-04 - accuracy: 1.0000 - val_loss: 0.3753 - val_accuracy: 0.9042\n",
            "Epoch 90/100\n",
            "\n",
            "Epoch 00090: val_accuracy did not improve from 0.91537\n",
            "14/14 - 0s - loss: 6.1030e-04 - accuracy: 1.0000 - val_loss: 0.3659 - val_accuracy: 0.9065\n",
            "Epoch 91/100\n",
            "\n",
            "Epoch 00091: val_accuracy did not improve from 0.91537\n",
            "14/14 - 0s - loss: 6.0513e-04 - accuracy: 1.0000 - val_loss: 0.3382 - val_accuracy: 0.9065\n",
            "Epoch 92/100\n",
            "\n",
            "Epoch 00092: val_accuracy did not improve from 0.91537\n",
            "14/14 - 0s - loss: 5.9606e-04 - accuracy: 1.0000 - val_loss: 0.3467 - val_accuracy: 0.9065\n",
            "Epoch 93/100\n",
            "\n",
            "Epoch 00093: val_accuracy did not improve from 0.91537\n",
            "14/14 - 0s - loss: 5.7830e-04 - accuracy: 1.0000 - val_loss: 0.3450 - val_accuracy: 0.9087\n",
            "Epoch 94/100\n",
            "\n",
            "Epoch 00094: val_accuracy did not improve from 0.91537\n",
            "14/14 - 0s - loss: 5.4238e-04 - accuracy: 1.0000 - val_loss: 0.3740 - val_accuracy: 0.9065\n",
            "Epoch 95/100\n",
            "\n",
            "Epoch 00095: val_accuracy did not improve from 0.91537\n",
            "14/14 - 0s - loss: 5.2558e-04 - accuracy: 1.0000 - val_loss: 0.3645 - val_accuracy: 0.9042\n",
            "Epoch 96/100\n",
            "\n",
            "Epoch 00096: val_accuracy did not improve from 0.91537\n",
            "14/14 - 0s - loss: 5.0685e-04 - accuracy: 1.0000 - val_loss: 0.3497 - val_accuracy: 0.9087\n",
            "Epoch 97/100\n",
            "\n",
            "Epoch 00097: val_accuracy did not improve from 0.91537\n",
            "14/14 - 0s - loss: 4.9627e-04 - accuracy: 1.0000 - val_loss: 0.3932 - val_accuracy: 0.9020\n",
            "Epoch 98/100\n",
            "\n",
            "Epoch 00098: val_accuracy did not improve from 0.91537\n",
            "14/14 - 0s - loss: 4.8877e-04 - accuracy: 1.0000 - val_loss: 0.3787 - val_accuracy: 0.9020\n",
            "Epoch 99/100\n",
            "\n",
            "Epoch 00099: val_accuracy did not improve from 0.91537\n",
            "14/14 - 0s - loss: 4.6351e-04 - accuracy: 1.0000 - val_loss: 0.3713 - val_accuracy: 0.9065\n",
            "Epoch 100/100\n",
            "\n",
            "Epoch 00100: val_accuracy did not improve from 0.91537\n",
            "14/14 - 0s - loss: 4.5494e-04 - accuracy: 1.0000 - val_loss: 0.3795 - val_accuracy: 0.9065\n"
          ],
          "name": "stdout"
        }
      ]
    },
    {
      "cell_type": "code",
      "metadata": {
        "colab": {
          "base_uri": "https://localhost:8080/",
          "height": 617
        },
        "id": "Qw4co1d6jvP8",
        "outputId": "8a6da586-6507-40b6-82fc-e1dcc369f78d"
      },
      "source": [
        "plt.plot(history.history['loss'])\r\n",
        "plt.plot(history.history['val_loss'])\r\n",
        "plt.title('Model Loss')\r\n",
        "plt.ylabel('Loss')\r\n",
        "plt.xlabel('Epochs')\r\n",
        "plt.legend(['train', 'test'])\r\n",
        "plt.show()\r\n",
        "\r\n",
        "plt.plot(history.history['accuracy'])\r\n",
        "plt.plot(history.history['val_accuracy'])\r\n",
        "plt.title('Model Accuracy')\r\n",
        "plt.ylabel('Accuracy')\r\n",
        "plt.xlabel('Epochs')\r\n",
        "plt.legend(['train', 'test'])\r\n",
        "plt.show()"
      ],
      "execution_count": 33,
      "outputs": [
        {
          "output_type": "display_data",
          "data": {
            "image/png": "[encoded data removed]",
            "text/plain": [
              "<Figure size 432x288 with 1 Axes>"
            ]
          },
          "metadata": {
            "tags": []
          }
        },
        {
          "output_type": "display_data",
          "data": {
            "image/png": "[encoded data removed]",
            "text/plain": [
              "<Figure size 432x288 with 1 Axes>"
            ]
          },
          "metadata": {
            "tags": []
          }
        }
      ]
    },
    {
      "cell_type": "code",
      "metadata": {
        "id": "5tfv7QTicIKE"
      },
      "source": [
        "x = np.reshape(x, (np.shape(x)[0], 150, 150, 3))"
      ],
      "execution_count": 19,
      "outputs": []
    },
    {
      "cell_type": "code",
      "metadata": {
        "id": "rdgN7UBScRso"
      },
      "source": [
        "x_train,x_test,y_train,y_test=train_test_split(x,y,test_size=0.25,random_state=42)"
      ],
      "execution_count": 20,
      "outputs": []
    },
    {
      "cell_type": "code",
      "metadata": {
        "id": "LdUAPQjUhBo5"
      },
      "source": [
        "flower_cnn = Sequential()\r\n",
        "flower_cnn.add(Conv2D(filters = 32, kernel_size = (5,5),padding = 'Same',activation ='linear', input_shape = (150,150,3)))\r\n",
        "flower_cnn.add(MaxPooling2D(pool_size=(2,2)))\r\n",
        "\r\n",
        "\r\n",
        "flower_cnn.add(Conv2D(filters = 64, kernel_size = (3,3),padding = 'Same',activation ='linear'))\r\n",
        "flower_cnn.add(MaxPooling2D(pool_size=(2,2), strides=(2,2)))\r\n",
        " \r\n",
        "\r\n",
        "flower_cnn.add(Conv2D(filters =96, kernel_size = (3,3),padding = 'Same',activation ='linear'))\r\n",
        "flower_cnn.add(MaxPooling2D(pool_size=(2,2), strides=(2,2)))\r\n",
        "\r\n",
        "flower_cnn.add(Conv2D(filters = 96, kernel_size = (3,3),padding = 'Same',activation ='relu'))\r\n",
        "flower_cnn.add(MaxPooling2D(pool_size=(2,2), strides=(2,2)))\r\n",
        "\r\n",
        "flower_cnn.add(Flatten())\r\n",
        "flower_cnn.add(Dense(512))\r\n",
        "flower_cnn.add(Activation('relu'))\r\n",
        "flower_cnn.add(Dense(5, activation = \"softmax\"))"
      ],
      "execution_count": 21,
      "outputs": []
    },
    {
      "cell_type": "code",
      "metadata": {
        "id": "rpBen9VTwSY3"
      },
      "source": [
        "batch_size=128\r\n",
        "epochs=50\r\n",
        "\r\n",
        "from keras.callbacks import ReduceLROnPlateau\r\n",
        "red_lr= ReduceLROnPlateau(monitor='val_acc',patience=3,verbose=1,factor=0.1)"
      ],
      "execution_count": 22,
      "outputs": []
    },
    {
      "cell_type": "code",
      "metadata": {
        "id": "ds65j5zQjV9J"
      },
      "source": [
        "flower_cnn.compile(optimizer=Adam(lr=0.001),loss='categorical_crossentropy',metrics=['accuracy'])"
      ],
      "execution_count": 23,
      "outputs": []
    },
    {
      "cell_type": "code",
      "metadata": {
        "colab": {
          "base_uri": "https://localhost:8080/"
        },
        "id": "jjhHrH3Ljbbu",
        "outputId": "0f872a78-6284-4c4b-d079-599302348cdd"
      },
      "source": [
        "flower_cnn.summary()"
      ],
      "execution_count": 24,
      "outputs": [
        {
          "output_type": "stream",
          "text": [
            "Model: \"sequential_1\"\n",
            "_________________________________________________________________\n",
            "Layer (type)                 Output Shape              Param #   \n",
            "=================================================================\n",
            "conv2d (Conv2D)              (None, 150, 150, 32)      2432      \n",
            "_________________________________________________________________\n",
            "max_pooling2d (MaxPooling2D) (None, 75, 75, 32)        0         \n",
            "_________________________________________________________________\n",
            "conv2d_1 (Conv2D)            (None, 75, 75, 64)        18496     \n",
            "_________________________________________________________________\n",
            "max_pooling2d_1 (MaxPooling2 (None, 37, 37, 64)        0         \n",
            "_________________________________________________________________\n",
            "conv2d_2 (Conv2D)            (None, 37, 37, 96)        55392     \n",
            "_________________________________________________________________\n",
            "max_pooling2d_2 (MaxPooling2 (None, 18, 18, 96)        0         \n",
            "_________________________________________________________________\n",
            "conv2d_3 (Conv2D)            (None, 18, 18, 96)        83040     \n",
            "_________________________________________________________________\n",
            "max_pooling2d_3 (MaxPooling2 (None, 9, 9, 96)          0         \n",
            "_________________________________________________________________\n",
            "flatten (Flatten)            (None, 7776)              0         \n",
            "_________________________________________________________________\n",
            "dense_5 (Dense)              (None, 512)               3981824   \n",
            "_________________________________________________________________\n",
            "activation (Activation)      (None, 512)               0         \n",
            "_________________________________________________________________\n",
            "dense_6 (Dense)              (None, 5)                 2565      \n",
            "=================================================================\n",
            "Total params: 4,143,749\n",
            "Trainable params: 4,143,749\n",
            "Non-trainable params: 0\n",
            "_________________________________________________________________\n"
          ],
          "name": "stdout"
        }
      ]
    },
    {
      "cell_type": "code",
      "metadata": {
        "colab": {
          "base_uri": "https://localhost:8080/"
        },
        "id": "YG5Mb2SMjfPp",
        "outputId": "5a6d40da-dbbe-44ed-a284-e7eb74858660"
      },
      "source": [
        "History = flower_cnn.fit(x_train,y_train, batch_size=batch_size,\r\n",
        "                              epochs = epochs, validation_data = (x_test,y_test), \r\n",
        "                              verbose = 1)\r\n",
        "# model.fit(x_train,y_train,epochs=epochs,batch_size=batch_size,validation_data = (x_test,y_test))"
      ],
      "execution_count": 25,
      "outputs": [
        {
          "output_type": "stream",
          "text": [
            "Epoch 1/50\n",
            "15/15 [==============================] - 2s 138ms/step - loss: 1.2362 - accuracy: 0.4922 - val_loss: 1.2105 - val_accuracy: 0.5559\n",
            "Epoch 2/50\n",
            "15/15 [==============================] - 2s 101ms/step - loss: 0.9692 - accuracy: 0.6672 - val_loss: 0.6077 - val_accuracy: 0.7613\n",
            "Epoch 3/50\n",
            "15/15 [==============================] - 2s 101ms/step - loss: 0.5346 - accuracy: 0.7904 - val_loss: 0.7238 - val_accuracy: 0.7162\n",
            "Epoch 4/50\n",
            "15/15 [==============================] - 1s 100ms/step - loss: 0.5331 - accuracy: 0.8149 - val_loss: 0.3691 - val_accuracy: 0.8681\n",
            "Epoch 5/50\n",
            "15/15 [==============================] - 2s 100ms/step - loss: 0.2477 - accuracy: 0.9147 - val_loss: 0.6708 - val_accuracy: 0.7997\n",
            "Epoch 6/50\n",
            "15/15 [==============================] - 1s 100ms/step - loss: 0.7539 - accuracy: 0.7809 - val_loss: 0.5152 - val_accuracy: 0.8080\n",
            "Epoch 7/50\n",
            "15/15 [==============================] - 2s 100ms/step - loss: 0.3411 - accuracy: 0.8813 - val_loss: 0.2128 - val_accuracy: 0.9098\n",
            "Epoch 8/50\n",
            "15/15 [==============================] - 1s 98ms/step - loss: 0.1118 - accuracy: 0.9671 - val_loss: 0.1650 - val_accuracy: 0.9549\n",
            "Epoch 9/50\n",
            "15/15 [==============================] - 2s 101ms/step - loss: 0.0694 - accuracy: 0.9822 - val_loss: 0.1472 - val_accuracy: 0.9549\n",
            "Epoch 10/50\n",
            "15/15 [==============================] - 1s 100ms/step - loss: 0.0583 - accuracy: 0.9822 - val_loss: 0.0671 - val_accuracy: 0.9833\n",
            "Epoch 11/50\n",
            "15/15 [==============================] - 2s 100ms/step - loss: 0.0465 - accuracy: 0.9883 - val_loss: 0.1366 - val_accuracy: 0.9649\n",
            "Epoch 12/50\n",
            "15/15 [==============================] - 2s 100ms/step - loss: 0.0312 - accuracy: 0.9900 - val_loss: 0.1263 - val_accuracy: 0.9766\n",
            "Epoch 13/50\n",
            "15/15 [==============================] - 2s 101ms/step - loss: 0.0082 - accuracy: 0.9983 - val_loss: 0.0787 - val_accuracy: 0.9750\n",
            "Epoch 14/50\n",
            "15/15 [==============================] - 2s 101ms/step - loss: 0.1188 - accuracy: 0.9621 - val_loss: 1.4628 - val_accuracy: 0.7596\n",
            "Epoch 15/50\n",
            "15/15 [==============================] - 1s 100ms/step - loss: 0.3284 - accuracy: 0.9164 - val_loss: 0.1972 - val_accuracy: 0.9382\n",
            "Epoch 16/50\n",
            "15/15 [==============================] - 2s 103ms/step - loss: 0.0717 - accuracy: 0.9810 - val_loss: 0.0542 - val_accuracy: 0.9866\n",
            "Epoch 17/50\n",
            "15/15 [==============================] - 2s 102ms/step - loss: 0.0183 - accuracy: 0.9967 - val_loss: 0.0521 - val_accuracy: 0.9866\n",
            "Epoch 18/50\n",
            "15/15 [==============================] - 2s 102ms/step - loss: 0.0040 - accuracy: 0.9994 - val_loss: 0.0389 - val_accuracy: 0.9900\n",
            "Epoch 19/50\n",
            "15/15 [==============================] - 2s 102ms/step - loss: 0.0021 - accuracy: 1.0000 - val_loss: 0.0352 - val_accuracy: 0.9933\n",
            "Epoch 20/50\n",
            "15/15 [==============================] - 2s 102ms/step - loss: 0.0011 - accuracy: 1.0000 - val_loss: 0.0342 - val_accuracy: 0.9933\n",
            "Epoch 21/50\n",
            "15/15 [==============================] - 2s 101ms/step - loss: 6.8225e-04 - accuracy: 1.0000 - val_loss: 0.0319 - val_accuracy: 0.9917\n",
            "Epoch 22/50\n",
            "15/15 [==============================] - 2s 102ms/step - loss: 5.1795e-04 - accuracy: 1.0000 - val_loss: 0.0308 - val_accuracy: 0.9917\n",
            "Epoch 23/50\n",
            "15/15 [==============================] - 2s 103ms/step - loss: 4.3714e-04 - accuracy: 1.0000 - val_loss: 0.0307 - val_accuracy: 0.9917\n",
            "Epoch 24/50\n",
            "15/15 [==============================] - 2s 101ms/step - loss: 3.7743e-04 - accuracy: 1.0000 - val_loss: 0.0300 - val_accuracy: 0.9917\n",
            "Epoch 25/50\n",
            "15/15 [==============================] - 2s 101ms/step - loss: 3.3790e-04 - accuracy: 1.0000 - val_loss: 0.0295 - val_accuracy: 0.9917\n",
            "Epoch 26/50\n",
            "15/15 [==============================] - 2s 103ms/step - loss: 3.0175e-04 - accuracy: 1.0000 - val_loss: 0.0290 - val_accuracy: 0.9917\n",
            "Epoch 27/50\n",
            "15/15 [==============================] - 2s 101ms/step - loss: 2.7398e-04 - accuracy: 1.0000 - val_loss: 0.0284 - val_accuracy: 0.9917\n",
            "Epoch 28/50\n",
            "15/15 [==============================] - 2s 102ms/step - loss: 2.5058e-04 - accuracy: 1.0000 - val_loss: 0.0285 - val_accuracy: 0.9917\n",
            "Epoch 29/50\n",
            "15/15 [==============================] - 2s 103ms/step - loss: 2.2763e-04 - accuracy: 1.0000 - val_loss: 0.0280 - val_accuracy: 0.9917\n",
            "Epoch 30/50\n",
            "15/15 [==============================] - 2s 103ms/step - loss: 2.1175e-04 - accuracy: 1.0000 - val_loss: 0.0278 - val_accuracy: 0.9917\n",
            "Epoch 31/50\n",
            "15/15 [==============================] - 2s 103ms/step - loss: 1.9564e-04 - accuracy: 1.0000 - val_loss: 0.0278 - val_accuracy: 0.9917\n",
            "Epoch 32/50\n",
            "15/15 [==============================] - 2s 103ms/step - loss: 1.8125e-04 - accuracy: 1.0000 - val_loss: 0.0277 - val_accuracy: 0.9917\n",
            "Epoch 33/50\n",
            "15/15 [==============================] - 2s 104ms/step - loss: 1.6821e-04 - accuracy: 1.0000 - val_loss: 0.0277 - val_accuracy: 0.9917\n",
            "Epoch 34/50\n",
            "15/15 [==============================] - 2s 103ms/step - loss: 1.5777e-04 - accuracy: 1.0000 - val_loss: 0.0273 - val_accuracy: 0.9917\n",
            "Epoch 35/50\n",
            "15/15 [==============================] - 2s 100ms/step - loss: 1.5199e-04 - accuracy: 1.0000 - val_loss: 0.0261 - val_accuracy: 0.9933\n",
            "Epoch 36/50\n",
            "15/15 [==============================] - 2s 103ms/step - loss: 1.4358e-04 - accuracy: 1.0000 - val_loss: 0.0265 - val_accuracy: 0.9933\n",
            "Epoch 37/50\n",
            "15/15 [==============================] - 2s 102ms/step - loss: 1.3231e-04 - accuracy: 1.0000 - val_loss: 0.0272 - val_accuracy: 0.9933\n",
            "Epoch 38/50\n",
            "15/15 [==============================] - 2s 104ms/step - loss: 1.2349e-04 - accuracy: 1.0000 - val_loss: 0.0271 - val_accuracy: 0.9933\n",
            "Epoch 39/50\n",
            "15/15 [==============================] - 2s 104ms/step - loss: 1.1652e-04 - accuracy: 1.0000 - val_loss: 0.0273 - val_accuracy: 0.9933\n",
            "Epoch 40/50\n",
            "15/15 [==============================] - 2s 104ms/step - loss: 1.1863e-04 - accuracy: 1.0000 - val_loss: 0.0279 - val_accuracy: 0.9933\n",
            "Epoch 41/50\n",
            "15/15 [==============================] - 2s 103ms/step - loss: 1.1439e-04 - accuracy: 1.0000 - val_loss: 0.0280 - val_accuracy: 0.9933\n",
            "Epoch 42/50\n",
            "15/15 [==============================] - 2s 102ms/step - loss: 1.0168e-04 - accuracy: 1.0000 - val_loss: 0.0278 - val_accuracy: 0.9933\n",
            "Epoch 43/50\n",
            "15/15 [==============================] - 2s 103ms/step - loss: 9.3480e-05 - accuracy: 1.0000 - val_loss: 0.0272 - val_accuracy: 0.9933\n",
            "Epoch 44/50\n",
            "15/15 [==============================] - 2s 104ms/step - loss: 8.7795e-05 - accuracy: 1.0000 - val_loss: 0.0268 - val_accuracy: 0.9933\n",
            "Epoch 45/50\n",
            "15/15 [==============================] - 2s 104ms/step - loss: 8.3517e-05 - accuracy: 1.0000 - val_loss: 0.0267 - val_accuracy: 0.9933\n",
            "Epoch 46/50\n",
            "15/15 [==============================] - 2s 104ms/step - loss: 7.9397e-05 - accuracy: 1.0000 - val_loss: 0.0267 - val_accuracy: 0.9933\n",
            "Epoch 47/50\n",
            "15/15 [==============================] - 2s 104ms/step - loss: 7.5932e-05 - accuracy: 1.0000 - val_loss: 0.0264 - val_accuracy: 0.9933\n",
            "Epoch 48/50\n",
            "15/15 [==============================] - 2s 104ms/step - loss: 7.2739e-05 - accuracy: 1.0000 - val_loss: 0.0263 - val_accuracy: 0.9933\n",
            "Epoch 49/50\n",
            "15/15 [==============================] - 2s 104ms/step - loss: 6.9747e-05 - accuracy: 1.0000 - val_loss: 0.0261 - val_accuracy: 0.9933\n",
            "Epoch 50/50\n",
            "15/15 [==============================] - 2s 104ms/step - loss: 6.6852e-05 - accuracy: 1.0000 - val_loss: 0.0262 - val_accuracy: 0.9933\n"
          ],
          "name": "stdout"
        }
      ]
    },
    {
      "cell_type": "code",
      "metadata": {
        "id": "3Ckaju9RtJ4f"
      },
      "source": [
        "predictions = flower_cnn.predict(x_test)\r\n",
        "predictions = np.argmax(predictions,axis = 1)"
      ],
      "execution_count": 26,
      "outputs": []
    },
    {
      "cell_type": "code",
      "metadata": {
        "colab": {
          "base_uri": "https://localhost:8080/"
        },
        "id": "HzZVCw_6tQ-Y",
        "outputId": "2acc6748-f35b-4494-945c-9b0e399ef431"
      },
      "source": [
        "y_test_ = to_categorical(y_test)\r\n",
        "predictions = to_categorical(predictions,5)\r\n",
        "\r\n",
        "a = np.argmax(predictions ,axis=1)\r\n",
        "a"
      ],
      "execution_count": 27,
      "outputs": [
        {
          "output_type": "execute_result",
          "data": {
            "text/plain": [
              "array([1, 0, 3, 4, 4, 1, 4, 3, 3, 4, 1, 3, 3, 1, 1, 1, 4, 1, 2, 3, 2, 3,\n",
              "       4, 0, 3, 1, 4, 4, 3, 2, 3, 3, 1, 0, 1, 3, 1, 3, 4, 3, 4, 2, 0, 2,\n",
              "       1, 2, 4, 1, 2, 2, 2, 0, 4, 0, 3, 3, 2, 4, 1, 4, 4, 2, 2, 2, 4, 1,\n",
              "       2, 2, 1, 0, 0, 3, 4, 3, 2, 4, 4, 1, 2, 1, 4, 3, 2, 1, 2, 2, 0, 0,\n",
              "       1, 0, 1, 4, 2, 3, 2, 1, 4, 2, 4, 1, 2, 2, 3, 4, 4, 3, 0, 1, 2, 2,\n",
              "       3, 1, 2, 3, 1, 1, 3, 1, 0, 3, 4, 3, 1, 4, 2, 2, 2, 4, 1, 2, 1, 4,\n",
              "       3, 1, 2, 4, 1, 3, 4, 2, 2, 4, 4, 3, 3, 3, 1, 1, 3, 0, 4, 1, 2, 3,\n",
              "       4, 1, 4, 1, 3, 4, 2, 0, 4, 3, 0, 2, 2, 3, 3, 3, 4, 1, 4, 0, 3, 4,\n",
              "       3, 0, 2, 1, 2, 3, 4, 2, 3, 1, 0, 4, 3, 2, 1, 2, 0, 0, 1, 3, 2, 2,\n",
              "       0, 3, 2, 4, 3, 2, 1, 3, 2, 0, 2, 3, 2, 3, 4, 1, 3, 3, 1, 1, 1, 1,\n",
              "       3, 3, 2, 3, 3, 2, 2, 2, 3, 2, 1, 3, 0, 0, 2, 4, 4, 4, 2, 2, 1, 1,\n",
              "       1, 1, 4, 3, 0, 3, 3, 1, 1, 2, 3, 1, 1, 2, 2, 0, 0, 2, 0, 4, 1, 1,\n",
              "       4, 0, 3, 3, 3, 2, 2, 1, 2, 4, 4, 3, 3, 3, 2, 4, 0, 0, 2, 4, 0, 3,\n",
              "       4, 3, 4, 3, 1, 2, 0, 4, 4, 1, 1, 3, 3, 1, 2, 0, 1, 4, 2, 4, 4, 2,\n",
              "       3, 1, 3, 2, 2, 1, 2, 3, 1, 3, 1, 2, 1, 3, 1, 4, 2, 1, 4, 0, 3, 1,\n",
              "       1, 4, 0, 4, 4, 2, 0, 2, 4, 1, 3, 2, 4, 3, 2, 3, 2, 4, 4, 0, 2, 1,\n",
              "       1, 1, 4, 3, 4, 4, 0, 1, 3, 1, 4, 4, 1, 0, 2, 1, 4, 3, 3, 0, 4, 1,\n",
              "       2, 4, 0, 1, 4, 4, 1, 3, 2, 2, 2, 4, 3, 3, 4, 2, 4, 1, 0, 3, 0, 0,\n",
              "       2, 2, 2, 1, 3, 0, 1, 3, 1, 4, 4, 1, 3, 1, 0, 4, 3, 3, 2, 0, 2, 1,\n",
              "       3, 4, 1, 4, 2, 4, 1, 0, 1, 3, 3, 4, 0, 3, 4, 3, 3, 1, 1, 2, 1, 4,\n",
              "       1, 2, 3, 0, 4, 1, 4, 2, 3, 2, 0, 1, 4, 1, 2, 2, 3, 1, 2, 3, 2, 4,\n",
              "       2, 4, 3, 1, 3, 2, 0, 2, 1, 2, 0, 0, 1, 2, 0, 1, 3, 2, 4, 2, 3, 1,\n",
              "       4, 1, 1, 1, 4, 1, 4, 1, 2, 2, 1, 3, 1, 3, 3, 3, 4, 1, 3, 1, 4, 0,\n",
              "       3, 1, 1, 4, 3, 2, 3, 1, 0, 3, 2, 1, 4, 0, 3, 2, 3, 3, 3, 3, 1, 1,\n",
              "       3, 2, 1, 2, 0, 3, 4, 1, 2, 4, 4, 0, 3, 4, 3, 1, 1, 1, 3, 4, 2, 3,\n",
              "       1, 2, 1, 4, 0, 2, 2, 3, 4, 3, 3, 4, 4, 1, 1, 1, 1, 1, 1, 4, 2, 2,\n",
              "       4, 4, 2, 2, 1, 2, 2, 0, 2, 1, 4, 2, 1, 3, 3, 3, 1, 3, 1, 4, 3, 4,\n",
              "       3, 2, 0, 4, 4])"
            ]
          },
          "metadata": {
            "tags": []
          },
          "execution_count": 27
        }
      ]
    },
    {
      "cell_type": "code",
      "metadata": {
        "colab": {
          "base_uri": "https://localhost:8080/"
        },
        "id": "UqT4QTqFtzzC",
        "outputId": "6d657fee-101d-45df-d661-3c3383b9ed84"
      },
      "source": [
        "b = np.argmax(y_test ,axis=1)\r\n",
        "b"
      ],
      "execution_count": 28,
      "outputs": [
        {
          "output_type": "execute_result",
          "data": {
            "text/plain": [
              "array([1, 0, 3, 4, 4, 1, 4, 3, 3, 4, 1, 3, 3, 1, 1, 1, 4, 1, 2, 3, 2, 3,\n",
              "       4, 0, 3, 1, 4, 4, 3, 2, 3, 3, 1, 0, 1, 3, 1, 3, 4, 3, 4, 2, 0, 2,\n",
              "       1, 2, 4, 1, 2, 2, 2, 0, 4, 0, 3, 3, 2, 4, 1, 4, 4, 2, 2, 2, 4, 1,\n",
              "       2, 2, 1, 0, 0, 3, 4, 3, 2, 4, 4, 1, 2, 1, 4, 3, 2, 1, 2, 2, 0, 0,\n",
              "       1, 0, 1, 4, 2, 3, 2, 1, 4, 2, 4, 1, 2, 2, 3, 4, 4, 3, 0, 1, 2, 2,\n",
              "       3, 1, 2, 3, 1, 1, 3, 1, 0, 3, 4, 3, 1, 4, 2, 2, 2, 4, 1, 2, 1, 4,\n",
              "       3, 1, 2, 4, 1, 3, 4, 2, 2, 4, 4, 3, 3, 3, 1, 1, 3, 0, 4, 1, 2, 3,\n",
              "       4, 1, 4, 1, 3, 4, 2, 0, 4, 3, 0, 2, 2, 3, 3, 3, 4, 1, 4, 0, 3, 4,\n",
              "       3, 0, 2, 1, 2, 3, 4, 2, 3, 1, 0, 4, 3, 2, 1, 2, 0, 0, 1, 3, 2, 2,\n",
              "       0, 3, 2, 4, 3, 2, 1, 3, 2, 0, 2, 3, 2, 3, 4, 1, 3, 3, 1, 1, 1, 1,\n",
              "       3, 3, 2, 3, 3, 2, 2, 2, 3, 2, 1, 3, 0, 0, 2, 4, 4, 4, 2, 2, 1, 1,\n",
              "       1, 1, 4, 3, 0, 3, 3, 1, 1, 2, 3, 1, 1, 2, 2, 0, 0, 2, 0, 4, 1, 1,\n",
              "       4, 0, 3, 3, 3, 2, 2, 1, 2, 4, 4, 3, 3, 3, 2, 4, 0, 0, 2, 2, 0, 3,\n",
              "       4, 3, 4, 3, 1, 2, 0, 4, 4, 1, 1, 3, 3, 1, 2, 0, 1, 4, 2, 4, 4, 2,\n",
              "       3, 1, 3, 2, 2, 1, 2, 3, 1, 3, 1, 2, 1, 3, 1, 4, 2, 1, 4, 0, 3, 1,\n",
              "       1, 4, 0, 4, 4, 2, 0, 2, 4, 1, 3, 2, 4, 3, 2, 3, 2, 4, 4, 0, 2, 1,\n",
              "       1, 1, 4, 3, 4, 4, 0, 1, 3, 1, 4, 4, 1, 0, 2, 1, 4, 3, 3, 0, 4, 1,\n",
              "       2, 4, 0, 1, 4, 4, 1, 3, 2, 2, 2, 4, 3, 3, 4, 2, 4, 1, 0, 3, 0, 0,\n",
              "       2, 2, 2, 1, 3, 0, 1, 3, 1, 4, 4, 1, 3, 1, 0, 4, 3, 3, 2, 0, 2, 1,\n",
              "       3, 4, 1, 4, 2, 4, 1, 0, 1, 3, 3, 4, 0, 3, 4, 3, 3, 1, 1, 2, 1, 4,\n",
              "       1, 2, 3, 0, 4, 1, 4, 2, 3, 2, 0, 1, 4, 1, 2, 2, 3, 1, 2, 3, 2, 4,\n",
              "       2, 4, 3, 1, 3, 2, 0, 2, 1, 2, 0, 0, 1, 2, 0, 1, 3, 2, 4, 2, 3, 1,\n",
              "       2, 1, 1, 1, 4, 1, 4, 1, 2, 4, 1, 3, 1, 3, 3, 3, 4, 1, 3, 1, 4, 0,\n",
              "       3, 1, 1, 4, 3, 2, 3, 1, 0, 3, 2, 1, 4, 0, 3, 2, 3, 3, 3, 3, 1, 1,\n",
              "       3, 2, 1, 2, 0, 3, 4, 1, 2, 4, 4, 0, 3, 4, 3, 1, 1, 1, 3, 4, 2, 3,\n",
              "       1, 2, 1, 4, 0, 2, 2, 3, 4, 3, 3, 4, 4, 1, 1, 1, 1, 1, 1, 4, 2, 2,\n",
              "       4, 4, 2, 2, 1, 2, 2, 0, 2, 1, 1, 2, 1, 3, 3, 3, 1, 3, 1, 4, 3, 4,\n",
              "       3, 2, 0, 4, 4])"
            ]
          },
          "metadata": {
            "tags": []
          },
          "execution_count": 28
        }
      ]
    },
    {
      "cell_type": "code",
      "metadata": {
        "colab": {
          "base_uri": "https://localhost:8080/"
        },
        "id": "r-vUX9Jyt4uI",
        "outputId": "f458607f-2979-4a9e-8fa4-eebe9858e257"
      },
      "source": [
        "cm = confusion_matrix(a,b)\r\n",
        "cm"
      ],
      "execution_count": 29,
      "outputs": [
        {
          "output_type": "execute_result",
          "data": {
            "text/plain": [
              "array([[ 65,   0,   0,   0,   0],\n",
              "       [  0, 142,   0,   0,   0],\n",
              "       [  0,   0, 130,   0,   1],\n",
              "       [  0,   0,   0, 138,   0],\n",
              "       [  0,   1,   2,   0, 120]])"
            ]
          },
          "metadata": {
            "tags": []
          },
          "execution_count": 29
        }
      ]
    },
    {
      "cell_type": "code",
      "metadata": {
        "colab": {
          "base_uri": "https://localhost:8080/"
        },
        "id": "fgXETgHwt9Fd",
        "outputId": "f1ecb034-ac82-4069-9687-18b19608e568"
      },
      "source": [
        "accuracy = sum(cm[i][i] for i in range(5)) / y_test.shape[0]\r\n",
        "print(\"accuracy = \" + str(accuracy))"
      ],
      "execution_count": 30,
      "outputs": [
        {
          "output_type": "stream",
          "text": [
            "accuracy = 0.993322203672788\n"
          ],
          "name": "stdout"
        }
      ]
    },
    {
      "cell_type": "code",
      "metadata": {
        "colab": {
          "base_uri": "https://localhost:8080/",
          "height": 617
        },
        "id": "amipNzikjnwz",
        "outputId": "f606a6a3-999e-4bfe-f888-f82a1f5969f5"
      },
      "source": [
        "plt.plot(History.history['loss'])\r\n",
        "plt.plot(History.history['val_loss'])\r\n",
        "plt.title('Model Loss')\r\n",
        "plt.ylabel('Loss')\r\n",
        "plt.xlabel('Epochs')\r\n",
        "plt.legend(['train', 'test'])\r\n",
        "plt.show()\r\n",
        "\r\n",
        "plt.plot(History.history['accuracy'])\r\n",
        "plt.plot(History.history['val_accuracy'])\r\n",
        "plt.title('Model Accuracy')\r\n",
        "plt.ylabel('Accuracy')\r\n",
        "plt.xlabel('Epochs')\r\n",
        "plt.legend(['train', 'test'])\r\n",
        "plt.show()"
      ],
      "execution_count": 32,
      "outputs": [
        {
          "output_type": "display_data",
          "data": {
            "image/png": "[encoded data removed]",
            "text/plain": [
              "<Figure size 432x288 with 1 Axes>"
            ]
          },
          "metadata": {
            "tags": []
          }
        },
        {
          "output_type": "display_data",
          "data": {
            "image/png": "[encoded data removed]",
            "text/plain": [
              "<Figure size 432x288 with 1 Axes>"
            ]
          },
          "metadata": {
            "tags": []
          }
        }
      ]
    },
    {
      "cell_type": "code",
      "metadata": {
        "id": "W3m02-w_xMxR"
      },
      "source": [
        ""
      ],
      "execution_count": null,
      "outputs": []
    }
  ]
}