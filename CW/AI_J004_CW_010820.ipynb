{
  "nbformat": 4,
  "nbformat_minor": 0,
  "metadata": {
    "colab": {
      "name": "AI_J004_CW_010820",
      "provenance": [],
      "authorship_tag": "ABX9TyO3DoYG104xuh6EV4L38ozc",
      "include_colab_link": true
    },
    "kernelspec": {
      "name": "python3",
      "display_name": "Python 3"
    }
  },
  "cells": [
    {
      "cell_type": "markdown",
      "metadata": {
        "id": "view-in-github",
        "colab_type": "text"
      },
      "source": [
        "<a href=\"https://colab.research.google.com/github/ankalagigaurave/AI_SemV/blob/master/CW/AI_J004_CW_010820.ipynb\" target=\"_parent\"><img src=\"https://colab.research.google.com/assets/colab-badge.svg\" alt=\"Open In Colab\"/></a>"
      ]
    },
    {
      "cell_type": "code",
      "metadata": {
        "id": "dO92uSO_7Fjk",
        "colab_type": "code",
        "colab": {
          "base_uri": "https://localhost:8080/",
          "height": 84
        },
        "outputId": "f3df6c12-8666-4e81-f4a7-003e191b2123"
      },
      "source": [
        "n=5\n",
        "for i in range(1,n):\n",
        "  print(i)"
      ],
      "execution_count": 1,
      "outputs": [
        {
          "output_type": "stream",
          "text": [
            "1\n",
            "2\n",
            "3\n",
            "4\n"
          ],
          "name": "stdout"
        }
      ]
    },
    {
      "cell_type": "code",
      "metadata": {
        "id": "j4SwWO9bHRjN",
        "colab_type": "code",
        "colab": {}
      },
      "source": [
        "#Factorial\n",
        "def fact_recursion(n):\n",
        "  fact=1\n",
        "  if (n==0):\n",
        "    return fact\n",
        "  else:\n",
        "    return n*fact_recursion(n-1)\n",
        "\n"
      ],
      "execution_count": 2,
      "outputs": []
    },
    {
      "cell_type": "code",
      "metadata": {
        "id": "WQXjfPb8HvUU",
        "colab_type": "code",
        "colab": {}
      },
      "source": [
        "def fact_loop(n):\n",
        "  fact=1\n",
        "  if (n==0):\n",
        "    return fact\n",
        "  else:\n",
        "    for i in range(1,n+1):\n",
        "      fact=fact*i\n",
        "    return fact"
      ],
      "execution_count": 3,
      "outputs": []
    },
    {
      "cell_type": "code",
      "metadata": {
        "id": "xzeqrrG9IP-d",
        "colab_type": "code",
        "colab": {
          "base_uri": "https://localhost:8080/",
          "height": 34
        },
        "outputId": "e0a58a25-af71-4d5e-8f9e-d2d962366271"
      },
      "source": [
        "fact1=fact_recursion(5)\n",
        "fact2=fact_loop(5)\n",
        "print(fact1,fact2)"
      ],
      "execution_count": 4,
      "outputs": [
        {
          "output_type": "stream",
          "text": [
            "120 120\n"
          ],
          "name": "stdout"
        }
      ]
    },
    {
      "cell_type": "code",
      "metadata": {
        "id": "ZLceQbOoIjUb",
        "colab_type": "code",
        "colab": {}
      },
      "source": [
        "#Fibonacci\n",
        "def fibo_recur(n):\n",
        "   fibo[0],fibo[1]=0,1\n",
        "   if(n==0):\n",
        "     return fibo[0]\n",
        "   elif(n==1):\n",
        "     return fibo[1]\n",
        "   else:\n",
        "     while count<n:\n",
        "       print(fibo[0])\n",
        "       fibo  "
      ],
      "execution_count": 5,
      "outputs": []
    },
    {
      "cell_type": "code",
      "metadata": {
        "id": "gr5w1S68Si7a",
        "colab_type": "code",
        "colab": {}
      },
      "source": [
        "def fibo_1(n):\n",
        "  if n==0 or n==1:\n",
        "    return n\n",
        "  else:\n",
        "    return fibo_1(n-1)+fibo_1(n-2)\n",
        "  "
      ],
      "execution_count": 13,
      "outputs": []
    },
    {
      "cell_type": "code",
      "metadata": {
        "id": "UERYVIGIS2Zs",
        "colab_type": "code",
        "colab": {
          "base_uri": "https://localhost:8080/",
          "height": 34
        },
        "outputId": "4b488aad-d0fe-4a4b-ac8a-0275be09b513"
      },
      "source": [
        "fibo_1(5)"
      ],
      "execution_count": 14,
      "outputs": [
        {
          "output_type": "execute_result",
          "data": {
            "text/plain": [
              "5"
            ]
          },
          "metadata": {
            "tags": []
          },
          "execution_count": 14
        }
      ]
    },
    {
      "cell_type": "code",
      "metadata": {
        "id": "tqp8h53jUjP8",
        "colab_type": "code",
        "colab": {}
      },
      "source": [
        "list1=[4,3,1,6,7,99,77,3,5,696,896,321,332,533]\n"
      ],
      "execution_count": 34,
      "outputs": []
    },
    {
      "cell_type": "code",
      "metadata": {
        "id": "-SM53ro5WfXp",
        "colab_type": "code",
        "colab": {}
      },
      "source": [
        "list2=list1.copy().sort()\n",
        "list2"
      ],
      "execution_count": 35,
      "outputs": []
    },
    {
      "cell_type": "code",
      "metadata": {
        "id": "kWJgOUuiWkvB",
        "colab_type": "code",
        "colab": {
          "base_uri": "https://localhost:8080/",
          "height": 34
        },
        "outputId": "397bf20d-4373-4941-863a-f1d726c28de3"
      },
      "source": [
        "print(list2)"
      ],
      "execution_count": 36,
      "outputs": [
        {
          "output_type": "stream",
          "text": [
            "None\n"
          ],
          "name": "stdout"
        }
      ]
    },
    {
      "cell_type": "code",
      "metadata": {
        "id": "S05hcpUJWmxN",
        "colab_type": "code",
        "colab": {}
      },
      "source": [
        "list1.sort()\n"
      ],
      "execution_count": 37,
      "outputs": []
    },
    {
      "cell_type": "code",
      "metadata": {
        "id": "YV7XDrWYW8N1",
        "colab_type": "code",
        "colab": {}
      },
      "source": [
        "list3=list1.sort()\n",
        "list3"
      ],
      "execution_count": 38,
      "outputs": []
    },
    {
      "cell_type": "code",
      "metadata": {
        "id": "Ojw2OSW-XCif",
        "colab_type": "code",
        "colab": {
          "base_uri": "https://localhost:8080/",
          "height": 34
        },
        "outputId": "f09113ee-9830-412d-8ef8-930288402bbb"
      },
      "source": [
        "print(list1)"
      ],
      "execution_count": 40,
      "outputs": [
        {
          "output_type": "stream",
          "text": [
            "[1, 3, 3, 4, 5, 6, 7, 77, 99, 321, 332, 533, 696, 896]\n"
          ],
          "name": "stdout"
        }
      ]
    },
    {
      "cell_type": "code",
      "metadata": {
        "id": "lIRd6nY7XEtt",
        "colab_type": "code",
        "colab": {}
      },
      "source": [
        ""
      ],
      "execution_count": null,
      "outputs": []
    }
  ]
}