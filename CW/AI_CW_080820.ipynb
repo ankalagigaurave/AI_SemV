{
  "nbformat": 4,
  "nbformat_minor": 0,
  "metadata": {
    "colab": {
      "name": "AI_CW_80820",
      "provenance": [],
      "authorship_tag": "ABX9TyPWMtLCEvwwR20VtcMtA+ON",
      "include_colab_link": true
    },
    "kernelspec": {
      "name": "python3",
      "display_name": "Python 3"
    }
  },
  "cells": [
    {
      "cell_type": "markdown",
      "metadata": {
        "id": "view-in-github",
        "colab_type": "text"
      },
      "source": [
        "<a href=\"https://colab.research.google.com/github/ankalagigaurave/AI_SemV/blob/master/CW/AI_CW_080820.ipynb\" target=\"_parent\"><img src=\"https://colab.research.google.com/assets/colab-badge.svg\" alt=\"Open In Colab\"/></a>"
      ]
    },
    {
      "cell_type": "code",
      "metadata": {
        "id": "A2O-sJcMDOCj",
        "colab_type": "code",
        "colab": {}
      },
      "source": [
        "def fact_loop(n):\n",
        "  fact=1\n",
        "  if (n==0):\n",
        "    return fact\n",
        "  else:\n",
        "    for i in range(1,n+1):\n",
        "      fact=fact*i\n",
        "    return fact"
      ],
      "execution_count": 1,
      "outputs": []
    },
    {
      "cell_type": "code",
      "metadata": {
        "id": "fC3T0pw4FpXe",
        "colab_type": "code",
        "colab": {
          "base_uri": "https://localhost:8080/",
          "height": 50
        },
        "outputId": "34891160-19a2-48ff-acc7-5cbcfd46ea23"
      },
      "source": [
        "%timeit fact_loop(5)"
      ],
      "execution_count": 2,
      "outputs": [
        {
          "output_type": "stream",
          "text": [
            "The slowest run took 7.03 times longer than the fastest. This could mean that an intermediate result is being cached.\n",
            "1000000 loops, best of 3: 445 ns per loop\n"
          ],
          "name": "stdout"
        }
      ]
    },
    {
      "cell_type": "code",
      "metadata": {
        "id": "wGDHyn0vF_5T",
        "colab_type": "code",
        "colab": {
          "base_uri": "https://localhost:8080/",
          "height": 34
        },
        "outputId": "b11a97ec-afa7-4b0d-8ae4-846e7de7d593"
      },
      "source": [
        " %timeit fact_loop(50)"
      ],
      "execution_count": 3,
      "outputs": [
        {
          "output_type": "stream",
          "text": [
            "100000 loops, best of 3: 2.97 µs per loop\n"
          ],
          "name": "stdout"
        }
      ]
    },
    {
      "cell_type": "code",
      "metadata": {
        "id": "s5lxzsI6vufL",
        "colab_type": "code",
        "colab": {
          "base_uri": "https://localhost:8080/",
          "height": 34
        },
        "outputId": "7ca0b53c-fc51-44ef-ffc6-687284fb0386"
      },
      "source": [
        " %timeit fact_loop(500)"
      ],
      "execution_count": 4,
      "outputs": [
        {
          "output_type": "stream",
          "text": [
            "10000 loops, best of 3: 61.1 µs per loop\n"
          ],
          "name": "stdout"
        }
      ]
    },
    {
      "cell_type": "code",
      "metadata": {
        "id": "bW8D8nZbvws-",
        "colab_type": "code",
        "colab": {
          "base_uri": "https://localhost:8080/",
          "height": 34
        },
        "outputId": "fdfd6f34-22fc-4d8e-89d7-2748c8f6d025"
      },
      "source": [
        " %timeit fact_loop(5000)"
      ],
      "execution_count": 5,
      "outputs": [
        {
          "output_type": "stream",
          "text": [
            "100 loops, best of 3: 4.29 ms per loop\n"
          ],
          "name": "stdout"
        }
      ]
    },
    {
      "cell_type": "code",
      "metadata": {
        "id": "I7J4ZPFGv3kd",
        "colab_type": "code",
        "colab": {}
      },
      "source": [
        "def sum(a,b):\n",
        "  return(a+b)"
      ],
      "execution_count": 6,
      "outputs": []
    },
    {
      "cell_type": "code",
      "metadata": {
        "id": "XaghziiGv8yQ",
        "colab_type": "code",
        "colab": {
          "base_uri": "https://localhost:8080/",
          "height": 50
        },
        "outputId": "b121b4b0-f15e-4b32-a7de-2de042a5136a"
      },
      "source": [
        "%timeit sum(5,10)"
      ],
      "execution_count": 7,
      "outputs": [
        {
          "output_type": "stream",
          "text": [
            "The slowest run took 13.37 times longer than the fastest. This could mean that an intermediate result is being cached.\n",
            "10000000 loops, best of 3: 79.6 ns per loop\n"
          ],
          "name": "stdout"
        }
      ]
    },
    {
      "cell_type": "code",
      "metadata": {
        "id": "A454mTBGwHBc",
        "colab_type": "code",
        "colab": {
          "base_uri": "https://localhost:8080/",
          "height": 50
        },
        "outputId": "75270c87-f783-42e4-d602-35330d7b4a98"
      },
      "source": [
        "%timeit sum(50,100)"
      ],
      "execution_count": 8,
      "outputs": [
        {
          "output_type": "stream",
          "text": [
            "The slowest run took 23.29 times longer than the fastest. This could mean that an intermediate result is being cached.\n",
            "10000000 loops, best of 3: 77.8 ns per loop\n"
          ],
          "name": "stdout"
        }
      ]
    },
    {
      "cell_type": "code",
      "metadata": {
        "id": "wSiWtdp3wJs6",
        "colab_type": "code",
        "colab": {
          "base_uri": "https://localhost:8080/",
          "height": 50
        },
        "outputId": "6bec5714-b327-4dd4-a314-4d9086bf45b7"
      },
      "source": [
        "%timeit sum(500,1000)"
      ],
      "execution_count": 9,
      "outputs": [
        {
          "output_type": "stream",
          "text": [
            "The slowest run took 19.85 times longer than the fastest. This could mean that an intermediate result is being cached.\n",
            "10000000 loops, best of 3: 88.8 ns per loop\n"
          ],
          "name": "stdout"
        }
      ]
    },
    {
      "cell_type": "code",
      "metadata": {
        "id": "ui6u10lMwMNI",
        "colab_type": "code",
        "colab": {
          "base_uri": "https://localhost:8080/",
          "height": 50
        },
        "outputId": "d0252a82-50d8-40e8-aac1-08c4f3337772"
      },
      "source": [
        "%timeit sum(5000,10000)"
      ],
      "execution_count": 10,
      "outputs": [
        {
          "output_type": "stream",
          "text": [
            "The slowest run took 15.24 times longer than the fastest. This could mean that an intermediate result is being cached.\n",
            "10000000 loops, best of 3: 89.6 ns per loop\n"
          ],
          "name": "stdout"
        }
      ]
    },
    {
      "cell_type": "markdown",
      "metadata": {
        "id": "UHkd4Wb2wVpT",
        "colab_type": "text"
      },
      "source": [
        "\n",
        "The slowest run took 14.30 times longer than the fastest. This could mean that an intermediate result is being cached.\n",
        "10000000 loops, best of 3: 94.7 ns per loop\n",
        "![alt text](https://en.wikipedia.org/wiki/NP-hardness#/media/File:P_np_np-complete_np-hard.svg)\n",
        "\n",
        "NP(Problem) - Solution is in non polynomial time\n",
        "P(Problem) - Max Solution time or Upper Bound is in Polynomial Time O(n^4) -> log n =\n",
        "(n*logn)\n",
        "log 50(base10) - 1.69 ()<n^1\n",
        "log 500(base10) - 2.69 ()<n^1\n",
        "log 5000(base10) - 3.69 ()<n^1\n",
        "for non linear change in n , change is linear\n",
        "\n",
        "\n",
        "NP () - n!\n",
        "5! = 120 -> <5^3\n",
        "50! = 3.0414093e+64 microsecs -> days -> 3.5201497e+53 days\n",
        "500!\n",
        "5000!\n",
        "\n",
        "NP Complete - > All NP hard problems can be approximated to the problem then it is NP Complete.\n",
        "NP hard - > A problem is NP Hard if its solution is in NP, Cannot be verified in Polynomial Time\n",
        "\n",
        "AI Complete or\n",
        "AI Hard Problems\n",
        "SAT - n-SAT (2-SAT)"
      ]
    },
    {
      "cell_type": "code",
      "metadata": {
        "id": "3DLgDuocwOl-",
        "colab_type": "code",
        "colab": {}
      },
      "source": [
        ""
      ],
      "execution_count": 10,
      "outputs": []
    }
  ]
}